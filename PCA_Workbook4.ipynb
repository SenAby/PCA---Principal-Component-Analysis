{
  "nbformat": 4,
  "nbformat_minor": 0,
  "metadata": {
    "colab": {
      "name": "PCA Workbook4.ipynb",
      "provenance": [],
      "collapsed_sections": []
    },
    "kernelspec": {
      "name": "python3",
      "display_name": "Python 3"
    },
    "language_info": {
      "name": "python"
    },
    "widgets": {
      "application/vnd.jupyter.widget-state+json": {
        "aeefc55000ea4fb6a71b2bb84310bbf0": {
          "model_module": "@jupyter-widgets/controls",
          "model_name": "VBoxModel",
          "state": {
            "_view_name": "VBoxView",
            "_dom_classes": [
              "widget-interact"
            ],
            "_model_name": "VBoxModel",
            "_view_module": "@jupyter-widgets/controls",
            "_model_module_version": "1.5.0",
            "_view_count": null,
            "_view_module_version": "1.5.0",
            "box_style": "",
            "layout": "IPY_MODEL_01b95cfc7d584fb68dfce681935823d8",
            "_model_module": "@jupyter-widgets/controls",
            "children": [
              "IPY_MODEL_397f5601c2324c94be43687d7f17514d",
              "IPY_MODEL_e5763e72209a46d3873f5aad4b350750"
            ]
          }
        },
        "01b95cfc7d584fb68dfce681935823d8": {
          "model_module": "@jupyter-widgets/base",
          "model_name": "LayoutModel",
          "state": {
            "_view_name": "LayoutView",
            "grid_template_rows": null,
            "right": null,
            "justify_content": null,
            "_view_module": "@jupyter-widgets/base",
            "overflow": null,
            "_model_module_version": "1.2.0",
            "_view_count": null,
            "flex_flow": null,
            "width": null,
            "min_width": null,
            "border": null,
            "align_items": null,
            "bottom": null,
            "_model_module": "@jupyter-widgets/base",
            "top": null,
            "grid_column": null,
            "overflow_y": null,
            "overflow_x": null,
            "grid_auto_flow": null,
            "grid_area": null,
            "grid_template_columns": null,
            "flex": null,
            "_model_name": "LayoutModel",
            "justify_items": null,
            "grid_row": null,
            "max_height": null,
            "align_content": null,
            "visibility": null,
            "align_self": null,
            "height": null,
            "min_height": null,
            "padding": null,
            "grid_auto_rows": null,
            "grid_gap": null,
            "max_width": null,
            "order": null,
            "_view_module_version": "1.2.0",
            "grid_template_areas": null,
            "object_position": null,
            "object_fit": null,
            "grid_auto_columns": null,
            "margin": null,
            "display": null,
            "left": null
          }
        },
        "397f5601c2324c94be43687d7f17514d": {
          "model_module": "@jupyter-widgets/controls",
          "model_name": "IntSliderModel",
          "state": {
            "_view_name": "IntSliderView",
            "style": "IPY_MODEL_fb6e35702b9240fa88e36b9ae2a23020",
            "_dom_classes": [],
            "description": "image_idx",
            "step": 1,
            "_model_name": "IntSliderModel",
            "orientation": "horizontal",
            "max": 1000,
            "_view_module": "@jupyter-widgets/controls",
            "_model_module_version": "1.5.0",
            "value": 529,
            "_view_count": null,
            "disabled": false,
            "_view_module_version": "1.5.0",
            "min": 0,
            "continuous_update": true,
            "readout_format": "d",
            "description_tooltip": null,
            "readout": true,
            "_model_module": "@jupyter-widgets/controls",
            "layout": "IPY_MODEL_ef37fdcb90be4435a02dbf2d7d3b33ee"
          }
        },
        "e5763e72209a46d3873f5aad4b350750": {
          "model_module": "@jupyter-widgets/output",
          "model_name": "OutputModel",
          "state": {
            "_view_name": "OutputView",
            "msg_id": "",
            "_dom_classes": [],
            "_model_name": "OutputModel",
            "outputs": [
              {
                "output_type": "display_data",
                "metadata": {
                  "tags": [],
                  "needs_background": "light"
                },
                "image/png": "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\n",
                "text/plain": "<Figure size 1440x1440 with 1 Axes>"
              }
            ],
            "_view_module": "@jupyter-widgets/output",
            "_model_module_version": "1.0.0",
            "_view_count": null,
            "_view_module_version": "1.0.0",
            "layout": "IPY_MODEL_f7f3fc44265540b4b1451ea9b8cfaf3a",
            "_model_module": "@jupyter-widgets/output"
          }
        },
        "fb6e35702b9240fa88e36b9ae2a23020": {
          "model_module": "@jupyter-widgets/controls",
          "model_name": "SliderStyleModel",
          "state": {
            "_view_name": "StyleView",
            "handle_color": null,
            "_model_name": "SliderStyleModel",
            "description_width": "",
            "_view_module": "@jupyter-widgets/base",
            "_model_module_version": "1.5.0",
            "_view_count": null,
            "_view_module_version": "1.2.0",
            "_model_module": "@jupyter-widgets/controls"
          }
        },
        "ef37fdcb90be4435a02dbf2d7d3b33ee": {
          "model_module": "@jupyter-widgets/base",
          "model_name": "LayoutModel",
          "state": {
            "_view_name": "LayoutView",
            "grid_template_rows": null,
            "right": null,
            "justify_content": null,
            "_view_module": "@jupyter-widgets/base",
            "overflow": null,
            "_model_module_version": "1.2.0",
            "_view_count": null,
            "flex_flow": null,
            "width": null,
            "min_width": null,
            "border": null,
            "align_items": null,
            "bottom": null,
            "_model_module": "@jupyter-widgets/base",
            "top": null,
            "grid_column": null,
            "overflow_y": null,
            "overflow_x": null,
            "grid_auto_flow": null,
            "grid_area": null,
            "grid_template_columns": null,
            "flex": null,
            "_model_name": "LayoutModel",
            "justify_items": null,
            "grid_row": null,
            "max_height": null,
            "align_content": null,
            "visibility": null,
            "align_self": null,
            "height": null,
            "min_height": null,
            "padding": null,
            "grid_auto_rows": null,
            "grid_gap": null,
            "max_width": null,
            "order": null,
            "_view_module_version": "1.2.0",
            "grid_template_areas": null,
            "object_position": null,
            "object_fit": null,
            "grid_auto_columns": null,
            "margin": null,
            "display": null,
            "left": null
          }
        },
        "f7f3fc44265540b4b1451ea9b8cfaf3a": {
          "model_module": "@jupyter-widgets/base",
          "model_name": "LayoutModel",
          "state": {
            "_view_name": "LayoutView",
            "grid_template_rows": null,
            "right": null,
            "justify_content": null,
            "_view_module": "@jupyter-widgets/base",
            "overflow": null,
            "_model_module_version": "1.2.0",
            "_view_count": null,
            "flex_flow": null,
            "width": null,
            "min_width": null,
            "border": null,
            "align_items": null,
            "bottom": null,
            "_model_module": "@jupyter-widgets/base",
            "top": null,
            "grid_column": null,
            "overflow_y": null,
            "overflow_x": null,
            "grid_auto_flow": null,
            "grid_area": null,
            "grid_template_columns": null,
            "flex": null,
            "_model_name": "LayoutModel",
            "justify_items": null,
            "grid_row": null,
            "max_height": null,
            "align_content": null,
            "visibility": null,
            "align_self": null,
            "height": null,
            "min_height": null,
            "padding": null,
            "grid_auto_rows": null,
            "grid_gap": null,
            "max_width": null,
            "order": null,
            "_view_module_version": "1.2.0",
            "grid_template_areas": null,
            "object_position": null,
            "object_fit": null,
            "grid_auto_columns": null,
            "margin": null,
            "display": null,
            "left": null
          }
        },
        "4a0b5adfffcd47a5bcdf54df027acf96": {
          "model_module": "@jupyter-widgets/controls",
          "model_name": "VBoxModel",
          "state": {
            "_view_name": "VBoxView",
            "_dom_classes": [
              "widget-interact"
            ],
            "_model_name": "VBoxModel",
            "_view_module": "@jupyter-widgets/controls",
            "_model_module_version": "1.5.0",
            "_view_count": null,
            "_view_module_version": "1.5.0",
            "box_style": "",
            "layout": "IPY_MODEL_e093fba7b6d240579f20b8892490f064",
            "_model_module": "@jupyter-widgets/controls",
            "children": [
              "IPY_MODEL_513d1fb7e47c4170ba4e62d15eeeccf2",
              "IPY_MODEL_e3e265a1e702476384f870a93b15405b"
            ]
          }
        },
        "e093fba7b6d240579f20b8892490f064": {
          "model_module": "@jupyter-widgets/base",
          "model_name": "LayoutModel",
          "state": {
            "_view_name": "LayoutView",
            "grid_template_rows": null,
            "right": null,
            "justify_content": null,
            "_view_module": "@jupyter-widgets/base",
            "overflow": null,
            "_model_module_version": "1.2.0",
            "_view_count": null,
            "flex_flow": null,
            "width": null,
            "min_width": null,
            "border": null,
            "align_items": null,
            "bottom": null,
            "_model_module": "@jupyter-widgets/base",
            "top": null,
            "grid_column": null,
            "overflow_y": null,
            "overflow_x": null,
            "grid_auto_flow": null,
            "grid_area": null,
            "grid_template_columns": null,
            "flex": null,
            "_model_name": "LayoutModel",
            "justify_items": null,
            "grid_row": null,
            "max_height": null,
            "align_content": null,
            "visibility": null,
            "align_self": null,
            "height": null,
            "min_height": null,
            "padding": null,
            "grid_auto_rows": null,
            "grid_gap": null,
            "max_width": null,
            "order": null,
            "_view_module_version": "1.2.0",
            "grid_template_areas": null,
            "object_position": null,
            "object_fit": null,
            "grid_auto_columns": null,
            "margin": null,
            "display": null,
            "left": null
          }
        },
        "513d1fb7e47c4170ba4e62d15eeeccf2": {
          "model_module": "@jupyter-widgets/controls",
          "model_name": "IntSliderModel",
          "state": {
            "_view_name": "IntSliderView",
            "style": "IPY_MODEL_a88acf5e17314d1e880248b767462cb9",
            "_dom_classes": [],
            "description": "i",
            "step": 1,
            "_model_name": "IntSliderModel",
            "orientation": "horizontal",
            "max": 10,
            "_view_module": "@jupyter-widgets/controls",
            "_model_module_version": "1.5.0",
            "value": 4,
            "_view_count": null,
            "disabled": false,
            "_view_module_version": "1.5.0",
            "min": 0,
            "continuous_update": true,
            "readout_format": "d",
            "description_tooltip": null,
            "readout": true,
            "_model_module": "@jupyter-widgets/controls",
            "layout": "IPY_MODEL_79ecafa646e74ae6b19b89488f7d71f9"
          }
        },
        "e3e265a1e702476384f870a93b15405b": {
          "model_module": "@jupyter-widgets/output",
          "model_name": "OutputModel",
          "state": {
            "_view_name": "OutputView",
            "msg_id": "",
            "_dom_classes": [],
            "_model_name": "OutputModel",
            "outputs": [
              {
                "output_type": "display_data",
                "metadata": {
                  "tags": [],
                  "needs_background": "light"
                },
                "image/png": "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\n",
                "text/plain": "<Figure size 288x288 with 1 Axes>"
              }
            ],
            "_view_module": "@jupyter-widgets/output",
            "_model_module_version": "1.0.0",
            "_view_count": null,
            "_view_module_version": "1.0.0",
            "layout": "IPY_MODEL_5c1a94aff05941ada6b9e7efe639554b",
            "_model_module": "@jupyter-widgets/output"
          }
        },
        "a88acf5e17314d1e880248b767462cb9": {
          "model_module": "@jupyter-widgets/controls",
          "model_name": "SliderStyleModel",
          "state": {
            "_view_name": "StyleView",
            "handle_color": null,
            "_model_name": "SliderStyleModel",
            "description_width": "",
            "_view_module": "@jupyter-widgets/base",
            "_model_module_version": "1.5.0",
            "_view_count": null,
            "_view_module_version": "1.2.0",
            "_model_module": "@jupyter-widgets/controls"
          }
        },
        "79ecafa646e74ae6b19b89488f7d71f9": {
          "model_module": "@jupyter-widgets/base",
          "model_name": "LayoutModel",
          "state": {
            "_view_name": "LayoutView",
            "grid_template_rows": null,
            "right": null,
            "justify_content": null,
            "_view_module": "@jupyter-widgets/base",
            "overflow": null,
            "_model_module_version": "1.2.0",
            "_view_count": null,
            "flex_flow": null,
            "width": null,
            "min_width": null,
            "border": null,
            "align_items": null,
            "bottom": null,
            "_model_module": "@jupyter-widgets/base",
            "top": null,
            "grid_column": null,
            "overflow_y": null,
            "overflow_x": null,
            "grid_auto_flow": null,
            "grid_area": null,
            "grid_template_columns": null,
            "flex": null,
            "_model_name": "LayoutModel",
            "justify_items": null,
            "grid_row": null,
            "max_height": null,
            "align_content": null,
            "visibility": null,
            "align_self": null,
            "height": null,
            "min_height": null,
            "padding": null,
            "grid_auto_rows": null,
            "grid_gap": null,
            "max_width": null,
            "order": null,
            "_view_module_version": "1.2.0",
            "grid_template_areas": null,
            "object_position": null,
            "object_fit": null,
            "grid_auto_columns": null,
            "margin": null,
            "display": null,
            "left": null
          }
        },
        "5c1a94aff05941ada6b9e7efe639554b": {
          "model_module": "@jupyter-widgets/base",
          "model_name": "LayoutModel",
          "state": {
            "_view_name": "LayoutView",
            "grid_template_rows": null,
            "right": null,
            "justify_content": null,
            "_view_module": "@jupyter-widgets/base",
            "overflow": null,
            "_model_module_version": "1.2.0",
            "_view_count": null,
            "flex_flow": null,
            "width": null,
            "min_width": null,
            "border": null,
            "align_items": null,
            "bottom": null,
            "_model_module": "@jupyter-widgets/base",
            "top": null,
            "grid_column": null,
            "overflow_y": null,
            "overflow_x": null,
            "grid_auto_flow": null,
            "grid_area": null,
            "grid_template_columns": null,
            "flex": null,
            "_model_name": "LayoutModel",
            "justify_items": null,
            "grid_row": null,
            "max_height": null,
            "align_content": null,
            "visibility": null,
            "align_self": null,
            "height": null,
            "min_height": null,
            "padding": null,
            "grid_auto_rows": null,
            "grid_gap": null,
            "max_width": null,
            "order": null,
            "_view_module_version": "1.2.0",
            "grid_template_areas": null,
            "object_position": null,
            "object_fit": null,
            "grid_auto_columns": null,
            "margin": null,
            "display": null,
            "left": null
          }
        }
      }
    }
  },
  "cells": [
    {
      "cell_type": "markdown",
      "metadata": {
        "id": "Fj0kXTNdQERY"
      },
      "source": [
        "## **Principal Component Analysis (PCA)**"
      ]
    },
    {
      "cell_type": "code",
      "metadata": {
        "id": "hoU5zzL3P9hT"
      },
      "source": [
        "import numpy as np\n",
        "import timeit"
      ],
      "execution_count": 1,
      "outputs": []
    },
    {
      "cell_type": "code",
      "metadata": {
        "id": "qmKLDnCnQMt8"
      },
      "source": [
        "import matplotlib as mpl\n",
        "mpl.use('Agg')\n",
        "import matplotlib.pyplot as plt\n",
        "plt.style.use('fivethirtyeight')"
      ],
      "execution_count": 2,
      "outputs": []
    },
    {
      "cell_type": "code",
      "metadata": {
        "colab": {
          "base_uri": "https://localhost:8080/",
          "height": 262
        },
        "id": "07iwIIThQRXJ",
        "outputId": "8894c5a5-eb08-4c72-af9e-3e709ca76cfd"
      },
      "source": [
        "from ipywidgets import interact\n",
        "\n",
        "from sklearn.datasets import fetch_openml\n",
        "MNIST = fetch_openml('mnist_784', data_home='./MNIST')\n",
        "%matplotlib inline\n",
        "\n",
        "plt.figure(figsize=(4,4))\n",
        "plt.imshow(MNIST.data[0].reshape(28,28), cmap='gray');"
      ],
      "execution_count": 4,
      "outputs": [
        {
          "output_type": "display_data",
          "data": {
            "image/png": "[encoded data removed]",
            "text/plain": [
              "<Figure size 288x288 with 1 Axes>"
            ]
          },
          "metadata": {
            "tags": [],
            "needs_background": "light"
          }
        }
      ]
    },
    {
      "cell_type": "code",
      "metadata": {
        "id": "tG15-x12RDUs"
      },
      "source": [
        "def normalize(X):\n",
        "    \"\"\"Normalize the given dataset X\n",
        "    Args:\n",
        "        X: ndarray, dataset\n",
        "    \n",
        "    Returns:\n",
        "        (Xbar, mean, std): ndarray, Xbar is the normalized dataset\n",
        "        with mean 0 and standard deviation 1; mean and std are the \n",
        "        mean and standard deviation respectively.\n",
        "    \n",
        "    Note:\n",
        "        we will encounter dimensions where the standard deviation is\n",
        "        zero, for those when you do normalization the normalized data\n",
        "        will be NaN. we need to handle this by setting using `std = 1` for those \n",
        "        dimensions when doing normalization.\n",
        "    \"\"\"\n",
        "    mu = np.mean(X, axis=0) \n",
        "    X = X - mu\n",
        "    std = np.std(X, axis=0)\n",
        "    std_filled = std.copy()\n",
        "    std_filled[std==0] = 1.     \n",
        "    Xbar = (X-mu) / std_filled \n",
        "    return Xbar, mu, std"
      ],
      "execution_count": 5,
      "outputs": []
    },
    {
      "cell_type": "code",
      "metadata": {
        "id": "QdxLEU2PRRdz"
      },
      "source": [
        "def eig(S):\n",
        "    \"\"\"Compute the eigenvalues and corresponding eigenvectors \n",
        "        for the covariance matrix S.\n",
        "    Args:\n",
        "        S: ndarray, covariance matrix\n",
        "    \n",
        "    Returns:\n",
        "        (eigvals, eigvecs): ndarray, the eigenvalues and eigenvectors\n",
        "\n",
        "    Note:\n",
        "        the eigenvals and eigenvecs SHOULD BE sorted in descending\n",
        "        order of the eigen values\n",
        "        \n",
        "    \"\"\"\n",
        "    eig_val, eig_vec = np.linalg.eigh(S)\n",
        "    sorted_eig  = np.argsort(-eig_val)\n",
        "    eig_val = eig_val[sorted_eig]\n",
        "    eig_vec = eig_vec[:, sorted_eig]\n",
        "    return (eig_val, eig_vec)"
      ],
      "execution_count": 6,
      "outputs": []
    },
    {
      "cell_type": "code",
      "metadata": {
        "id": "gcBmygd8RZ9Z"
      },
      "source": [
        "def projection_matrix(B):\n",
        "    \"\"\"Compute the projection matrix onto the space spanned by `B`\n",
        "    Args:\n",
        "        B: ndarray of dimension (D, M), the basis for the subspace\n",
        "    \n",
        "    Returns:\n",
        "        P: the projection matrix\n",
        "    \"\"\"\n",
        "    P = B @ B.T \n",
        "\n",
        "    return P"
      ],
      "execution_count": 7,
      "outputs": []
    },
    {
      "cell_type": "code",
      "metadata": {
        "id": "KEHrrPRsRh7t"
      },
      "source": [
        "from sklearn import decomposition\n",
        "\n",
        "def PCA(X, num_components):\n",
        "    \"\"\"\n",
        "    Args:\n",
        "        X: ndarray of size (N, D), where D is the dimension of the data,\n",
        "           and N is the number of datapoints\n",
        "        num_components: the number of principal components to use.\n",
        "    Returns:\n",
        "        X_reconstruct: ndarray of the reconstruction\n",
        "        of X from the first `num_components` principal components.\n",
        "    \"\"\"\n",
        "    # Compute the data covariance matrix S\n",
        "    M = (X - np.mean(X.T, axis=1))\n",
        "    S = np.cov(X.T)\n",
        "\n",
        "    # Next find eigenvalues and corresponding eigenvectors for S by implementing eig().\n",
        "    eig_vals, eig_vecs = eig(S)\n",
        "    \n",
        "    # Select eigen vectors\n",
        "    U = eig_vecs[:, range(num_components)]\n",
        "    \n",
        "    # Reconstruct the images from the lowerdimensional representation\n",
        "    # To do this, we first need to find the projection_matrix (which you implemented earlier)\n",
        "    # which projects our input data onto the vector space spanned by the eigenvectors\n",
        "    P = projection_matrix(U) # projection matrix\n",
        "    \n",
        "    # Then for each data point x_i in the dataset X \n",
        "    #   we can project the original x_i onto the eigenbasis.\n",
        "    X_reconstruct =  np.dot(X, P)\n",
        "    return X_reconstruct"
      ],
      "execution_count": 8,
      "outputs": []
    },
    {
      "cell_type": "code",
      "metadata": {
        "id": "dDSFOsgfRviB"
      },
      "source": [
        "NUM_DATAPOINTS = 1000\n",
        "X = (MNIST.data.reshape(-1, 28 * 28)[:NUM_DATAPOINTS]) / 255.\n",
        "Xbar, mu, std = normalize(X)"
      ],
      "execution_count": 9,
      "outputs": []
    },
    {
      "cell_type": "markdown",
      "metadata": {
        "id": "Btk-R4Q9R4Ng"
      },
      "source": [
        "The greater number of of principal components we use, the smaller will our reconstruction error be.\n",
        "\n",
        "How many principal components do we need in order to reach a Mean Squared Error (MSE) of less than $100$ for our dataset?"
      ]
    },
    {
      "cell_type": "code",
      "metadata": {
        "id": "Dn9hpa4FR-ua"
      },
      "source": [
        "def mse(predict, actual):\n",
        "    return np.square(predict - actual).sum(axis=1).mean()"
      ],
      "execution_count": 10,
      "outputs": []
    },
    {
      "cell_type": "code",
      "metadata": {
        "colab": {
          "base_uri": "https://localhost:8080/"
        },
        "id": "NzpL8CTJSAER",
        "outputId": "6046c104-17f3-42ba-a02e-13ba5057045a"
      },
      "source": [
        "loss = []\n",
        "reconstructions = []\n",
        "for num_component in range(1, 100):\n",
        "    reconst = PCA(Xbar, num_component)\n",
        "    error = mse(reconst, Xbar)\n",
        "    reconstructions.append(reconst)\n",
        "    print('n = {:d}, reconstruction_error = {:f}'.format(num_component, error))\n",
        "    loss.append((num_component, error))\n",
        "\n",
        "reconstructions = np.asarray(reconstructions)\n",
        "reconstructions = reconstructions * std + mu # \"unnormalize\" the reconstructed image\n",
        "loss = np.asarray(loss)\n",
        "reconstructions"
      ],
      "execution_count": 21,
      "outputs": [
        {
          "output_type": "stream",
          "text": [
            "n = 1, reconstruction_error = 739.482573\n",
            "n = 2, reconstruction_error = 694.255979\n",
            "n = 3, reconstruction_error = 665.786339\n",
            "n = 4, reconstruction_error = 641.996104\n",
            "n = 5, reconstruction_error = 612.639900\n",
            "n = 6, reconstruction_error = 585.153682\n",
            "n = 7, reconstruction_error = 541.928921\n",
            "n = 8, reconstruction_error = 528.062195\n",
            "n = 9, reconstruction_error = 499.515496\n",
            "n = 10, reconstruction_error = 483.150127\n",
            "n = 11, reconstruction_error = 473.139592\n",
            "n = 12, reconstruction_error = 457.870942\n",
            "n = 13, reconstruction_error = 448.967437\n",
            "n = 14, reconstruction_error = 438.291536\n",
            "n = 15, reconstruction_error = 427.328590\n",
            "n = 16, reconstruction_error = 417.602365\n",
            "n = 17, reconstruction_error = 403.358610\n",
            "n = 18, reconstruction_error = 395.507924\n",
            "n = 19, reconstruction_error = 383.179036\n",
            "n = 20, reconstruction_error = 368.708633\n",
            "n = 21, reconstruction_error = 362.237542\n",
            "n = 22, reconstruction_error = 353.525795\n",
            "n = 23, reconstruction_error = 343.353121\n",
            "n = 24, reconstruction_error = 335.399738\n",
            "n = 25, reconstruction_error = 326.243649\n",
            "n = 26, reconstruction_error = 314.800025\n",
            "n = 27, reconstruction_error = 309.479485\n",
            "n = 28, reconstruction_error = 303.188524\n",
            "n = 29, reconstruction_error = 296.704250\n",
            "n = 30, reconstruction_error = 290.585897\n",
            "n = 31, reconstruction_error = 285.985009\n",
            "n = 32, reconstruction_error = 275.915578\n",
            "n = 33, reconstruction_error = 271.361433\n",
            "n = 34, reconstruction_error = 264.102995\n",
            "n = 35, reconstruction_error = 258.827311\n",
            "n = 36, reconstruction_error = 254.624284\n",
            "n = 37, reconstruction_error = 250.443549\n",
            "n = 38, reconstruction_error = 246.495415\n",
            "n = 39, reconstruction_error = 242.153402\n",
            "n = 40, reconstruction_error = 238.027180\n",
            "n = 41, reconstruction_error = 232.120905\n",
            "n = 42, reconstruction_error = 228.702183\n",
            "n = 43, reconstruction_error = 225.407747\n",
            "n = 44, reconstruction_error = 221.370541\n",
            "n = 45, reconstruction_error = 218.109532\n",
            "n = 46, reconstruction_error = 214.883057\n",
            "n = 47, reconstruction_error = 211.702077\n",
            "n = 48, reconstruction_error = 208.317752\n",
            "n = 49, reconstruction_error = 204.629840\n",
            "n = 50, reconstruction_error = 201.700770\n",
            "n = 51, reconstruction_error = 198.085323\n",
            "n = 52, reconstruction_error = 195.146960\n",
            "n = 53, reconstruction_error = 192.157365\n",
            "n = 54, reconstruction_error = 188.964595\n",
            "n = 55, reconstruction_error = 186.148962\n",
            "n = 56, reconstruction_error = 183.537198\n",
            "n = 57, reconstruction_error = 180.008586\n",
            "n = 58, reconstruction_error = 177.521148\n",
            "n = 59, reconstruction_error = 175.053011\n",
            "n = 60, reconstruction_error = 172.647801\n",
            "n = 61, reconstruction_error = 170.024397\n",
            "n = 62, reconstruction_error = 167.618980\n",
            "n = 63, reconstruction_error = 165.262254\n",
            "n = 64, reconstruction_error = 162.962028\n",
            "n = 65, reconstruction_error = 160.408340\n",
            "n = 66, reconstruction_error = 158.252345\n",
            "n = 67, reconstruction_error = 156.065092\n",
            "n = 68, reconstruction_error = 152.784231\n",
            "n = 69, reconstruction_error = 150.531075\n",
            "n = 70, reconstruction_error = 148.128916\n",
            "n = 71, reconstruction_error = 146.092504\n",
            "n = 72, reconstruction_error = 144.104183\n",
            "n = 73, reconstruction_error = 142.098876\n",
            "n = 74, reconstruction_error = 140.216728\n",
            "n = 75, reconstruction_error = 138.297760\n",
            "n = 76, reconstruction_error = 136.484971\n",
            "n = 77, reconstruction_error = 134.451551\n",
            "n = 78, reconstruction_error = 132.498358\n",
            "n = 79, reconstruction_error = 130.736876\n",
            "n = 80, reconstruction_error = 128.609057\n",
            "n = 81, reconstruction_error = 126.866611\n",
            "n = 82, reconstruction_error = 125.181108\n",
            "n = 83, reconstruction_error = 123.505652\n",
            "n = 84, reconstruction_error = 121.751456\n",
            "n = 85, reconstruction_error = 120.156961\n",
            "n = 86, reconstruction_error = 118.233909\n",
            "n = 87, reconstruction_error = 116.662625\n",
            "n = 88, reconstruction_error = 114.780326\n",
            "n = 89, reconstruction_error = 113.178686\n",
            "n = 90, reconstruction_error = 111.674239\n",
            "n = 91, reconstruction_error = 109.998359\n",
            "n = 92, reconstruction_error = 108.561103\n",
            "n = 93, reconstruction_error = 107.154298\n",
            "n = 94, reconstruction_error = 105.598655\n",
            "n = 95, reconstruction_error = 104.222545\n",
            "n = 96, reconstruction_error = 102.881987\n",
            "n = 97, reconstruction_error = 101.379504\n",
            "n = 98, reconstruction_error = 100.076731\n",
            "n = 99, reconstruction_error = 98.662400\n"
          ],
          "name": "stdout"
        },
        {
          "output_type": "execute_result",
          "data": {
            "text/plain": [
              "array([[[0., 0., 0., ..., 0., 0., 0.],\n",
              "        [0., 0., 0., ..., 0., 0., 0.],\n",
              "        [0., 0., 0., ..., 0., 0., 0.],\n",
              "        ...,\n",
              "        [0., 0., 0., ..., 0., 0., 0.],\n",
              "        [0., 0., 0., ..., 0., 0., 0.],\n",
              "        [0., 0., 0., ..., 0., 0., 0.]],\n",
              "\n",
              "       [[0., 0., 0., ..., 0., 0., 0.],\n",
              "        [0., 0., 0., ..., 0., 0., 0.],\n",
              "        [0., 0., 0., ..., 0., 0., 0.],\n",
              "        ...,\n",
              "        [0., 0., 0., ..., 0., 0., 0.],\n",
              "        [0., 0., 0., ..., 0., 0., 0.],\n",
              "        [0., 0., 0., ..., 0., 0., 0.]],\n",
              "\n",
              "       [[0., 0., 0., ..., 0., 0., 0.],\n",
              "        [0., 0., 0., ..., 0., 0., 0.],\n",
              "        [0., 0., 0., ..., 0., 0., 0.],\n",
              "        ...,\n",
              "        [0., 0., 0., ..., 0., 0., 0.],\n",
              "        [0., 0., 0., ..., 0., 0., 0.],\n",
              "        [0., 0., 0., ..., 0., 0., 0.]],\n",
              "\n",
              "       ...,\n",
              "\n",
              "       [[0., 0., 0., ..., 0., 0., 0.],\n",
              "        [0., 0., 0., ..., 0., 0., 0.],\n",
              "        [0., 0., 0., ..., 0., 0., 0.],\n",
              "        ...,\n",
              "        [0., 0., 0., ..., 0., 0., 0.],\n",
              "        [0., 0., 0., ..., 0., 0., 0.],\n",
              "        [0., 0., 0., ..., 0., 0., 0.]],\n",
              "\n",
              "       [[0., 0., 0., ..., 0., 0., 0.],\n",
              "        [0., 0., 0., ..., 0., 0., 0.],\n",
              "        [0., 0., 0., ..., 0., 0., 0.],\n",
              "        ...,\n",
              "        [0., 0., 0., ..., 0., 0., 0.],\n",
              "        [0., 0., 0., ..., 0., 0., 0.],\n",
              "        [0., 0., 0., ..., 0., 0., 0.]],\n",
              "\n",
              "       [[0., 0., 0., ..., 0., 0., 0.],\n",
              "        [0., 0., 0., ..., 0., 0., 0.],\n",
              "        [0., 0., 0., ..., 0., 0., 0.],\n",
              "        ...,\n",
              "        [0., 0., 0., ..., 0., 0., 0.],\n",
              "        [0., 0., 0., ..., 0., 0., 0.],\n",
              "        [0., 0., 0., ..., 0., 0., 0.]]])"
            ]
          },
          "metadata": {
            "tags": []
          },
          "execution_count": 21
        }
      ]
    },
    {
      "cell_type": "code",
      "metadata": {
        "colab": {
          "base_uri": "https://localhost:8080/",
          "height": 296
        },
        "id": "XTbfZy-QUWa5",
        "outputId": "db22662b-a286-4a4e-9853-b6748dd819ac"
      },
      "source": [
        "fig, ax = plt.subplots()\n",
        "ax.plot(loss[:,0], loss[:,1]);\n",
        "ax.axhline(100, linestyle='--', color='r', linewidth=2)\n",
        "ax.xaxis.set_ticks(np.arange(1, 100, 5));\n",
        "ax.set(xlabel='num_components', ylabel='MSE', title='MSE vs number of principal components');"
      ],
      "execution_count": 23,
      "outputs": [
        {
          "output_type": "display_data",
          "data": {
            "image/png": "[encoded data removed]",
            "text/plain": [
              "<Figure size 432x288 with 1 Axes>"
            ]
          },
          "metadata": {
            "tags": [],
            "needs_background": "light"
          }
        }
      ]
    },
    {
      "cell_type": "markdown",
      "metadata": {
        "id": "q-m8PsOYUu9Y"
      },
      "source": [
        "But numbers don't tell us everything! Just what does it mean qualitatively for the loss to decrease from around $700 to less than $100.0$?\n",
        "\n",
        "Let's find out! In the next cell, we draw the original eight as the leftmost image. Then we show the reconstruction of the image on the right, in descending number of principal components used."
      ]
    },
    {
      "cell_type": "code",
      "metadata": {
        "colab": {
          "base_uri": "https://localhost:8080/",
          "height": 1000,
          "referenced_widgets": [
            "aeefc55000ea4fb6a71b2bb84310bbf0",
            "01b95cfc7d584fb68dfce681935823d8",
            "397f5601c2324c94be43687d7f17514d",
            "e5763e72209a46d3873f5aad4b350750",
            "fb6e35702b9240fa88e36b9ae2a23020",
            "ef37fdcb90be4435a02dbf2d7d3b33ee",
            "f7f3fc44265540b4b1451ea9b8cfaf3a"
          ]
        },
        "id": "w2feW3sIU2Hy",
        "outputId": "29b7f0ad-aae6-442b-81f3-17aa3184eb50"
      },
      "source": [
        "@interact(image_idx=(0, 1000))\n",
        "def show_num_components_reconst(image_idx):\n",
        "    fig, ax = plt.subplots(figsize=(20., 20.))\n",
        "    actual = X[image_idx]\n",
        "    x = np.concatenate([actual[np.newaxis, :], reconstructions[:, image_idx]])\n",
        "    ax.imshow(np.hstack(x.reshape(-1, 28, 28)[np.arange(10)]),\n",
        "              cmap='gray');\n",
        "    ax.axvline(28, color='orange', linewidth=2)"
      ],
      "execution_count": 24,
      "outputs": [
        {
          "output_type": "display_data",
          "data": {
            "application/vnd.jupyter.widget-view+json": {
              "model_id": "aeefc55000ea4fb6a71b2bb84310bbf0",
              "version_minor": 0,
              "version_major": 2
            },
            "text/plain": [
              "interactive(children=(IntSlider(value=500, description='image_idx', max=1000), Output()), _dom_classes=('widge…"
            ]
          },
          "metadata": {
            "tags": []
          }
        },
        {
          "output_type": "display_data",
          "data": {
            "image/png": "[encoded data removed]",
            "text/plain": [
              "<Figure size 1440x1440 with 1 Axes>"
            ]
          },
          "metadata": {
            "tags": [],
            "needs_background": "light"
          }
        }
      ]
    },
    {
      "cell_type": "code",
      "metadata": {
        "colab": {
          "base_uri": "https://localhost:8080/",
          "height": 202,
          "referenced_widgets": [
            "4a0b5adfffcd47a5bcdf54df027acf96",
            "e093fba7b6d240579f20b8892490f064",
            "513d1fb7e47c4170ba4e62d15eeeccf2",
            "e3e265a1e702476384f870a93b15405b",
            "a88acf5e17314d1e880248b767462cb9",
            "79ecafa646e74ae6b19b89488f7d71f9",
            "5c1a94aff05941ada6b9e7efe639554b"
          ]
        },
        "id": "c4py-KiCVWFL",
        "outputId": "8fcdeee0-ec54-4c35-d6b4-896b7645bdea"
      },
      "source": [
        "\n",
        "@interact(i=(0, 10))\n",
        "def show_pca_digits(i=1):\n",
        "    plt.figure(figsize=(4,4))\n",
        "    actual_sample = X[i].reshape(28,28)\n",
        "    reconst_sample = (reconst[i, :] * std + mu).reshape(28, 28)\n",
        "    plt.imshow(np.hstack([actual_sample, reconst_sample]), cmap='gray')\n",
        "    plt.show()"
      ],
      "execution_count": 25,
      "outputs": [
        {
          "output_type": "display_data",
          "data": {
            "application/vnd.jupyter.widget-view+json": {
              "model_id": "4a0b5adfffcd47a5bcdf54df027acf96",
              "version_minor": 0,
              "version_major": 2
            },
            "text/plain": [
              "interactive(children=(IntSlider(value=1, description='i', max=10), Output()), _dom_classes=('widget-interact',…"
            ]
          },
          "metadata": {
            "tags": []
          }
        }
      ]
    },
    {
      "cell_type": "markdown",
      "metadata": {
        "id": "_4FxKCRYVddA"
      },
      "source": [
        "## **PCA for high-dimensional datasets**"
      ]
    },
    {
      "cell_type": "code",
      "metadata": {
        "id": "LqNq65hiVhqp"
      },
      "source": [
        "def PCA_high_dim(X, num_components):\n",
        "    \"\"\"Compute PCA for small sample size. \n",
        "    Args:\n",
        "        X: ndarray of size (N, D), where D is the dimension of the data,\n",
        "           and N is the number of data points in the training set. You may assume the input \n",
        "           has been normalized.\n",
        "        num_components: the number of principal components to use.\n",
        "    Returns:\n",
        "        X_reconstruct: (N, D) ndarray. the reconstruction\n",
        "        of X from the first `num_components` principal components.\n",
        "    \"\"\"\n",
        "    N, D = X.shape\n",
        "    M = 1 / N * X @ X.T \n",
        "    eig_vals, eig_vecs = eig(M)  \n",
        "    U = eig_vecs[:, range(num_components)] \n",
        "    P = projection_matrix(U) \n",
        "    print(P.shape)\n",
        "    X_reconstruct = P @ X  \n",
        "    return X_reconstruct"
      ],
      "execution_count": 27,
      "outputs": []
    },
    {
      "cell_type": "code",
      "metadata": {
        "colab": {
          "base_uri": "https://localhost:8080/",
          "height": 507
        },
        "id": "NZzzR7OiVkqx",
        "outputId": "b7eaa3ab-a8ad-426e-bc62-a7f9579d640a"
      },
      "source": [
        "np.testing.assert_almost_equal(PCA(Xbar, 2), PCA_high_dim(Xbar, 2))\n",
        "print('correct')"
      ],
      "execution_count": 28,
      "outputs": [
        {
          "output_type": "stream",
          "text": [
            "(1000, 1000)\n"
          ],
          "name": "stdout"
        },
        {
          "output_type": "error",
          "ename": "AssertionError",
          "evalue": "ignored",
          "traceback": [
            "\u001b[0;31m---------------------------------------------------------------------------\u001b[0m",
            "\u001b[0;31mAssertionError\u001b[0m                            Traceback (most recent call last)",
            "\u001b[0;32m<ipython-input-28-cb0330dce4bc>\u001b[0m in \u001b[0;36m<module>\u001b[0;34m()\u001b[0m\n\u001b[0;32m----> 1\u001b[0;31m \u001b[0mnp\u001b[0m\u001b[0;34m.\u001b[0m\u001b[0mtesting\u001b[0m\u001b[0;34m.\u001b[0m\u001b[0massert_almost_equal\u001b[0m\u001b[0;34m(\u001b[0m\u001b[0mPCA\u001b[0m\u001b[0;34m(\u001b[0m\u001b[0mXbar\u001b[0m\u001b[0;34m,\u001b[0m \u001b[0;36m2\u001b[0m\u001b[0;34m)\u001b[0m\u001b[0;34m,\u001b[0m \u001b[0mPCA_high_dim\u001b[0m\u001b[0;34m(\u001b[0m\u001b[0mXbar\u001b[0m\u001b[0;34m,\u001b[0m \u001b[0;36m2\u001b[0m\u001b[0;34m)\u001b[0m\u001b[0;34m)\u001b[0m\u001b[0;34m\u001b[0m\u001b[0;34m\u001b[0m\u001b[0m\n\u001b[0m\u001b[1;32m      2\u001b[0m \u001b[0mprint\u001b[0m\u001b[0;34m(\u001b[0m\u001b[0;34m'correct'\u001b[0m\u001b[0;34m)\u001b[0m\u001b[0;34m\u001b[0m\u001b[0;34m\u001b[0m\u001b[0m\n",
            "\u001b[0;32m/usr/local/lib/python3.7/dist-packages/numpy/testing/_private/utils.py\u001b[0m in \u001b[0;36massert_almost_equal\u001b[0;34m(actual, desired, decimal, err_msg, verbose)\u001b[0m\n\u001b[1;32m    577\u001b[0m     \u001b[0;32mif\u001b[0m \u001b[0misinstance\u001b[0m\u001b[0;34m(\u001b[0m\u001b[0mactual\u001b[0m\u001b[0;34m,\u001b[0m \u001b[0;34m(\u001b[0m\u001b[0mndarray\u001b[0m\u001b[0;34m,\u001b[0m \u001b[0mtuple\u001b[0m\u001b[0;34m,\u001b[0m \u001b[0mlist\u001b[0m\u001b[0;34m)\u001b[0m\u001b[0;34m)\u001b[0m\u001b[0;31m \u001b[0m\u001b[0;31m\\\u001b[0m\u001b[0;34m\u001b[0m\u001b[0;34m\u001b[0m\u001b[0m\n\u001b[1;32m    578\u001b[0m             \u001b[0;32mor\u001b[0m \u001b[0misinstance\u001b[0m\u001b[0;34m(\u001b[0m\u001b[0mdesired\u001b[0m\u001b[0;34m,\u001b[0m \u001b[0;34m(\u001b[0m\u001b[0mndarray\u001b[0m\u001b[0;34m,\u001b[0m \u001b[0mtuple\u001b[0m\u001b[0;34m,\u001b[0m \u001b[0mlist\u001b[0m\u001b[0;34m)\u001b[0m\u001b[0;34m)\u001b[0m\u001b[0;34m:\u001b[0m\u001b[0;34m\u001b[0m\u001b[0;34m\u001b[0m\u001b[0m\n\u001b[0;32m--> 579\u001b[0;31m         \u001b[0;32mreturn\u001b[0m \u001b[0massert_array_almost_equal\u001b[0m\u001b[0;34m(\u001b[0m\u001b[0mactual\u001b[0m\u001b[0;34m,\u001b[0m \u001b[0mdesired\u001b[0m\u001b[0;34m,\u001b[0m \u001b[0mdecimal\u001b[0m\u001b[0;34m,\u001b[0m \u001b[0merr_msg\u001b[0m\u001b[0;34m)\u001b[0m\u001b[0;34m\u001b[0m\u001b[0;34m\u001b[0m\u001b[0m\n\u001b[0m\u001b[1;32m    580\u001b[0m     \u001b[0;32mtry\u001b[0m\u001b[0;34m:\u001b[0m\u001b[0;34m\u001b[0m\u001b[0;34m\u001b[0m\u001b[0m\n\u001b[1;32m    581\u001b[0m         \u001b[0;31m# If one of desired/actual is not finite, handle it specially here:\u001b[0m\u001b[0;34m\u001b[0m\u001b[0;34m\u001b[0m\u001b[0;34m\u001b[0m\u001b[0m\n",
            "\u001b[0;32m/usr/local/lib/python3.7/dist-packages/numpy/testing/_private/utils.py\u001b[0m in \u001b[0;36massert_array_almost_equal\u001b[0;34m(x, y, decimal, err_msg, verbose)\u001b[0m\n\u001b[1;32m   1042\u001b[0m     assert_array_compare(compare, x, y, err_msg=err_msg, verbose=verbose,\n\u001b[1;32m   1043\u001b[0m              \u001b[0mheader\u001b[0m\u001b[0;34m=\u001b[0m\u001b[0;34m(\u001b[0m\u001b[0;34m'Arrays are not almost equal to %d decimals'\u001b[0m \u001b[0;34m%\u001b[0m \u001b[0mdecimal\u001b[0m\u001b[0;34m)\u001b[0m\u001b[0;34m,\u001b[0m\u001b[0;34m\u001b[0m\u001b[0;34m\u001b[0m\u001b[0m\n\u001b[0;32m-> 1044\u001b[0;31m              precision=decimal)\n\u001b[0m\u001b[1;32m   1045\u001b[0m \u001b[0;34m\u001b[0m\u001b[0m\n\u001b[1;32m   1046\u001b[0m \u001b[0;34m\u001b[0m\u001b[0m\n",
            "\u001b[0;32m/usr/local/lib/python3.7/dist-packages/numpy/testing/_private/utils.py\u001b[0m in \u001b[0;36massert_array_compare\u001b[0;34m(comparison, x, y, err_msg, verbose, header, precision, equal_nan, equal_inf)\u001b[0m\n\u001b[1;32m    838\u001b[0m                                 \u001b[0mverbose\u001b[0m\u001b[0;34m=\u001b[0m\u001b[0mverbose\u001b[0m\u001b[0;34m,\u001b[0m \u001b[0mheader\u001b[0m\u001b[0;34m=\u001b[0m\u001b[0mheader\u001b[0m\u001b[0;34m,\u001b[0m\u001b[0;34m\u001b[0m\u001b[0;34m\u001b[0m\u001b[0m\n\u001b[1;32m    839\u001b[0m                                 names=('x', 'y'), precision=precision)\n\u001b[0;32m--> 840\u001b[0;31m             \u001b[0;32mraise\u001b[0m \u001b[0mAssertionError\u001b[0m\u001b[0;34m(\u001b[0m\u001b[0mmsg\u001b[0m\u001b[0;34m)\u001b[0m\u001b[0;34m\u001b[0m\u001b[0;34m\u001b[0m\u001b[0m\n\u001b[0m\u001b[1;32m    841\u001b[0m     \u001b[0;32mexcept\u001b[0m \u001b[0mValueError\u001b[0m\u001b[0;34m:\u001b[0m\u001b[0;34m\u001b[0m\u001b[0;34m\u001b[0m\u001b[0m\n\u001b[1;32m    842\u001b[0m         \u001b[0;32mimport\u001b[0m \u001b[0mtraceback\u001b[0m\u001b[0;34m\u001b[0m\u001b[0;34m\u001b[0m\u001b[0m\n",
            "\u001b[0;31mAssertionError\u001b[0m: \nArrays are not almost equal to 7 decimals\n\nMismatched elements: 609000 / 784000 (77.7%)\nMax absolute difference: 2.66972856\nMax relative difference: 374357.62328308\n x: array([[0., 0., 0., ..., 0., 0., 0.],\n       [0., 0., 0., ..., 0., 0., 0.],\n       [0., 0., 0., ..., 0., 0., 0.],...\n y: array([[0., 0., 0., ..., 0., 0., 0.],\n       [0., 0., 0., ..., 0., 0., 0.],\n       [0., 0., 0., ..., 0., 0., 0.],..."
          ]
        }
      ]
    },
    {
      "cell_type": "code",
      "metadata": {
        "id": "7Ec6D-rEWJ-w"
      },
      "source": [
        "def time(f, repeat=100):\n",
        "    times = []\n",
        "    for _ in range(repeat):\n",
        "        start = timeit.default_timer()\n",
        "        f()\n",
        "        stop = timeit.default_timer()\n",
        "        times.append(stop-start)\n",
        "    return np.mean(times), np.std(times)"
      ],
      "execution_count": 29,
      "outputs": []
    },
    {
      "cell_type": "code",
      "metadata": {
        "id": "6WAbr5pUWPHk"
      },
      "source": [
        "times_mm0 = []\n",
        "times_mm1 = []\n",
        "\n",
        "for datasetsize in np.arange(4, 784, step=20):\n",
        "    XX = Xbar[:datasetsize]\n",
        "    mu, sigma = time(lambda : XX.T @ XX)\n",
        "    times_mm0.append((datasetsize, mu, sigma))\n",
        "    \n",
        "    mu, sigma = time(lambda : XX @ XX.T)\n",
        "    times_mm1.append((datasetsize, mu, sigma))\n",
        "    \n",
        "times_mm0 = np.asarray(times_mm0)\n",
        "times_mm1 = np.asarray(times_mm1)"
      ],
      "execution_count": 30,
      "outputs": []
    },
    {
      "cell_type": "code",
      "metadata": {
        "colab": {
          "base_uri": "https://localhost:8080/",
          "height": 278
        },
        "id": "5aAs8i_uWVFf",
        "outputId": "1976a6d0-c21f-443d-88fe-f01eefab04f9"
      },
      "source": [
        "fig, ax = plt.subplots()\n",
        "ax.set(xlabel='size of dataset', ylabel='running time')\n",
        "bar = ax.errorbar(times_mm0[:, 0], times_mm0[:, 1], times_mm0[:, 2], label=\"$X^T X$ (PCA)\", linewidth=2)\n",
        "ax.errorbar(times_mm1[:, 0], times_mm1[:, 1], times_mm1[:, 2], label=\"$X X^T$ (PCA_high_dim)\", linewidth=2)\n",
        "ax.legend();"
      ],
      "execution_count": 31,
      "outputs": [
        {
          "output_type": "display_data",
          "data": {
            "image/png": "[encoded data removed]",
            "text/plain": [
              "<Figure size 432x288 with 1 Axes>"
            ]
          },
          "metadata": {
            "tags": [],
            "needs_background": "light"
          }
        }
      ]
    },
    {
      "cell_type": "code",
      "metadata": {
        "colab": {
          "base_uri": "https://localhost:8080/"
        },
        "id": "_Z_oWnmHW76y",
        "outputId": "5995c906-d6ed-4e4f-e5d3-4b42d37e3423"
      },
      "source": [
        "%time PCA(Xbar, 2)\n",
        "%time PCA_high_dim(Xbar, 2)\n",
        "pass"
      ],
      "execution_count": 32,
      "outputs": [
        {
          "output_type": "stream",
          "text": [
            "CPU times: user 330 ms, sys: 55.8 ms, total: 385 ms\n",
            "Wall time: 201 ms\n",
            "(1000, 1000)\n",
            "CPU times: user 694 ms, sys: 150 ms, total: 843 ms\n",
            "Wall time: 433 ms\n"
          ],
          "name": "stdout"
        }
      ]
    },
    {
      "cell_type": "markdown",
      "metadata": {
        "id": "_NCQj8ITYTZG"
      },
      "source": [
        "Next we benchmark PCA, PCA_high_dim."
      ]
    },
    {
      "cell_type": "code",
      "metadata": {
        "colab": {
          "base_uri": "https://localhost:8080/"
        },
        "id": "-DmGCzk1YU2_",
        "outputId": "c896c50b-8753-4ad3-83b5-3a7b5e061aa1"
      },
      "source": [
        "times0 = []\n",
        "times1 = []\n",
        "\n",
        "# iterate over datasets of different size\n",
        "for datasetsize in np.arange(4, 784, step=100):\n",
        "    XX = Xbar[:datasetsize]\n",
        "    npc = 2\n",
        "    mu, sigma = time(lambda : PCA(XX, npc), repeat=10)\n",
        "    times0.append((datasetsize, mu, sigma))\n",
        "    \n",
        "    mu, sigma = time(lambda : PCA_high_dim(XX, npc), repeat=10)\n",
        "    times1.append((datasetsize, mu, sigma))\n",
        "    \n",
        "times0 = np.asarray(times0)\n",
        "times1 = np.asarray(times1)"
      ],
      "execution_count": 33,
      "outputs": [
        {
          "output_type": "stream",
          "text": [
            "(4, 4)\n",
            "(4, 4)\n",
            "(4, 4)\n",
            "(4, 4)\n",
            "(4, 4)\n",
            "(4, 4)\n",
            "(4, 4)\n",
            "(4, 4)\n",
            "(4, 4)\n",
            "(4, 4)\n",
            "(104, 104)\n",
            "(104, 104)\n",
            "(104, 104)\n",
            "(104, 104)\n",
            "(104, 104)\n",
            "(104, 104)\n",
            "(104, 104)\n",
            "(104, 104)\n",
            "(104, 104)\n",
            "(104, 104)\n",
            "(204, 204)\n",
            "(204, 204)\n",
            "(204, 204)\n",
            "(204, 204)\n",
            "(204, 204)\n",
            "(204, 204)\n",
            "(204, 204)\n",
            "(204, 204)\n",
            "(204, 204)\n",
            "(204, 204)\n",
            "(304, 304)\n",
            "(304, 304)\n",
            "(304, 304)\n",
            "(304, 304)\n",
            "(304, 304)\n",
            "(304, 304)\n",
            "(304, 304)\n",
            "(304, 304)\n",
            "(304, 304)\n",
            "(304, 304)\n",
            "(404, 404)\n",
            "(404, 404)\n",
            "(404, 404)\n",
            "(404, 404)\n",
            "(404, 404)\n",
            "(404, 404)\n",
            "(404, 404)\n",
            "(404, 404)\n",
            "(404, 404)\n",
            "(404, 404)\n",
            "(504, 504)\n",
            "(504, 504)\n",
            "(504, 504)\n",
            "(504, 504)\n",
            "(504, 504)\n",
            "(504, 504)\n",
            "(504, 504)\n",
            "(504, 504)\n",
            "(504, 504)\n",
            "(504, 504)\n",
            "(604, 604)\n",
            "(604, 604)\n",
            "(604, 604)\n",
            "(604, 604)\n",
            "(604, 604)\n",
            "(604, 604)\n",
            "(604, 604)\n",
            "(604, 604)\n",
            "(604, 604)\n",
            "(604, 604)\n",
            "(704, 704)\n",
            "(704, 704)\n",
            "(704, 704)\n",
            "(704, 704)\n",
            "(704, 704)\n",
            "(704, 704)\n",
            "(704, 704)\n",
            "(704, 704)\n",
            "(704, 704)\n",
            "(704, 704)\n"
          ],
          "name": "stdout"
        }
      ]
    },
    {
      "cell_type": "markdown",
      "metadata": {
        "id": "V2ZxLUmbYbEY"
      },
      "source": [
        "Let's plot the running time. Spend some time and think about what this plot means. We mentioned in lectures that PCA_high_dim are advantageous when we have dataset size $N$ < data dimension $M$. Although our plot does not for the two running time does not intersect exactly at $N = M$, it does show the trend."
      ]
    },
    {
      "cell_type": "code",
      "metadata": {
        "colab": {
          "base_uri": "https://localhost:8080/",
          "height": 281
        },
        "id": "7BDzbg3ZYgcR",
        "outputId": "c8529df5-c783-4bfa-a484-d8ce53869a5f"
      },
      "source": [
        "fig, ax = plt.subplots()\n",
        "ax.set(xlabel='number of datapoints', ylabel='run time')\n",
        "ax.errorbar(times0[:, 0], times0[:, 1], times0[:, 2], label=\"PCA\", linewidth=2)\n",
        "ax.errorbar(times1[:, 0], times1[:, 1], times1[:, 2], label=\"PCA_high_dim\", linewidth=2)\n",
        "ax.legend();"
      ],
      "execution_count": 34,
      "outputs": [
        {
          "output_type": "display_data",
          "data": {
            "image/png": "[encoded data removed]",
            "text/plain": [
              "<Figure size 432x288 with 1 Axes>"
            ]
          },
          "metadata": {
            "tags": [],
            "needs_background": "light"
          }
        }
      ]
    },
    {
      "cell_type": "code",
      "metadata": {
        "colab": {
          "base_uri": "https://localhost:8080/"
        },
        "id": "qZH3hsz6Yjtc",
        "outputId": "c82dd24f-8228-440d-de0b-02419b35c489"
      },
      "source": [
        "%time PCA(Xbar, 2)\n",
        "%time PCA_high_dim(Xbar, 2)\n",
        "pass"
      ],
      "execution_count": 35,
      "outputs": [
        {
          "output_type": "stream",
          "text": [
            "CPU times: user 325 ms, sys: 60.7 ms, total: 386 ms\n",
            "Wall time: 201 ms\n",
            "(1000, 1000)\n",
            "CPU times: user 584 ms, sys: 83.1 ms, total: 667 ms\n",
            "Wall time: 338 ms\n"
          ],
          "name": "stdout"
        }
      ]
    }
  ]
}