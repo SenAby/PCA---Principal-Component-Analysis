{
  "nbformat": 4,
  "nbformat_minor": 0,
  "metadata": {
    "colab": {
      "name": "LinearAlgebra.ipynb",
      "provenance": [],
      "collapsed_sections": []
    },
    "kernelspec": {
      "name": "python3",
      "display_name": "Python 3"
    },
    "language_info": {
      "name": "python"
    }
  },
  "cells": [
    {
      "cell_type": "markdown",
      "metadata": {
        "id": "osi77absZlwA"
      },
      "source": [
        "### **Gram-Schmidt process**\n",
        "\n",
        "It takes a list of vectors and forms an orthonormal basis from this set. \n",
        "As a corollary, the procedure allows us to determine the dimension of the space spanned by the basis vectors, which is equal to or less than the space which the vectors sit."
      ]
    },
    {
      "cell_type": "code",
      "metadata": {
        "id": "YA8adQa-ZYkv"
      },
      "source": [
        "import numpy as np\n",
        "import numpy.linalg as la\n",
        "\n",
        "verySmallNumber = 1e-14 # That's 1×10⁻¹⁴ = 0.00000000000001\n",
        "\n",
        "def norm_or_zero(A, col):\n",
        "    if la.norm(A[:, col]) > verySmallNumber :\n",
        "        A[:, col] = A[:, col] / la.norm(A[:, col])\n",
        "    else :\n",
        "        A[:, col] = np.zeros_like(A[:, col])\n",
        "\n",
        "# Our first function will perform the Gram-Schmidt procedure for 4 basis vectors.\n",
        "# We'll take this list of vectors as the columns of a matrix, A.\n",
        "# We'll then go through the vectors one at a time and set them to be orthogonal\n",
        "# to all the vectors that came before it. Before normalising.\n",
        "\n",
        "\n",
        "\n",
        "def gsBasis4(A) :\n",
        "    # Make B as a copy of A, since we're going to alter it's values.\n",
        "    B = np.array(A, dtype=np.float_) \n",
        "\n",
        "    # The zeroth column is easy, since it has no other vectors to make it normal to.\n",
        "    # All that needs to be done is to normalise it. I.e. divide by its modulus, or norm.\n",
        "    B[:, 0] = B[:, 0] / la.norm(B[:, 0])\n",
        "\n",
        "\n",
        "    # For the first column, we need to subtract any overlap with our new zeroth vector.\n",
        "    B[:, 1] = B[:, 1] - B[:, 1] @ B[:, 0] * B[:, 0]\n",
        "\n",
        "\n",
        "    # If there's anything left after that subtraction, then B[:, 1] is linearly independant of B[:, 0]\n",
        "    # If this is the case, we can normalise it. Otherwise we'll set that vector to zero.\n",
        "    norm_or_zero(B, 1)\n",
        "\n",
        "\n",
        "    # Now we need to repeat the process for column 2.\n",
        "    # Insert two lines of code, the first to subtract the overlap with the zeroth vector,\n",
        "    # and the second to subtract the overlap with the first.\n",
        "    B[:, 2] = B[:, 2] - B[:, 2] @ B[:, 0] * B[:, 0]\n",
        "    B[:, 2] = B[:, 2] - B[:, 2] @ B[:, 1] * B[:, 1]\n",
        "    \n",
        "\n",
        "\n",
        "    # Again we'll need to normalise our new vector.\n",
        "    # Copy and adapt the normalisation fragment from above to column 2.\n",
        "    norm_or_zero(B, 2)\n",
        "    \n",
        "    # Finally, column three:\n",
        "    # Insert code to subtract the overlap with the first three vectors.\n",
        "    B[:, 3] = B[:, 3] - B[:, 3] @ B[:, 0] * B[:, 0]\n",
        "    B[:, 3] = B[:, 3] - B[:, 3] @ B[:, 1] * B[:, 1]\n",
        "    B[:, 3] = B[:, 3] - B[:, 3] @ B[:, 2] * B[:, 2]\n",
        "    \n",
        "    # Now normalise if possible\n",
        "    norm_or_zero(B, 3)\n",
        "    \n",
        "    # Finally, we return the result:\n",
        "    return B\n",
        "\n",
        "\n",
        "\n",
        "\n",
        "def gsBasis(A) :\n",
        "    B = np.array(A, dtype=np.float_)\n",
        "    \n",
        "    for i in range(B.shape[1]) :\n",
        "        # Inside that loop, loop over all previous vectors, j, to subtract.\n",
        "        for j in range(i) :\n",
        "            B[:, i] = B[:, i] - B[:, i] @ B[:, j] * B[:, j]\n",
        "        norm_or_zero(B, i)\n",
        "             \n",
        "    return B\n",
        "\n",
        "# This function uses the Gram-schmidt process to calculate the dimension\n",
        "# spanned by a list of vectors.\n",
        "# Since each vector is normalised to one, or is zero,\n",
        "# the sum of all the norms will be the dimension.\n",
        "def dimensions(A) :\n",
        "    return np.sum(la.norm(gsBasis(A), axis=0))"
      ],
      "execution_count": 1,
      "outputs": []
    },
    {
      "cell_type": "markdown",
      "metadata": {
        "id": "YA7SSzqHaphX"
      },
      "source": [
        "Some testing"
      ]
    },
    {
      "cell_type": "code",
      "metadata": {
        "colab": {
          "base_uri": "https://localhost:8080/"
        },
        "id": "T-40WHjMard-",
        "outputId": "3a2c72c2-d371-4087-c4d9-f0dab814cb6d"
      },
      "source": [
        "\n",
        "V = np.array([[1,0,2,6],\n",
        "              [0,1,8,2],\n",
        "              [2,8,3,1],\n",
        "              [1,-6,2,3]], dtype=np.float_)\n",
        "gsBasis4(V)"
      ],
      "execution_count": 2,
      "outputs": [
        {
          "output_type": "execute_result",
          "data": {
            "text/plain": [
              "array([[ 0.40824829, -0.1814885 ,  0.04982278,  0.89325973],\n",
              "       [ 0.        ,  0.1088931 ,  0.99349591, -0.03328918],\n",
              "       [ 0.81649658,  0.50816781, -0.06462163, -0.26631346],\n",
              "       [ 0.40824829, -0.83484711,  0.07942048, -0.36063281]])"
            ]
          },
          "metadata": {
            "tags": []
          },
          "execution_count": 2
        }
      ]
    },
    {
      "cell_type": "code",
      "metadata": {
        "colab": {
          "base_uri": "https://localhost:8080/"
        },
        "id": "B2IIFxFOawcX",
        "outputId": "a6498d5d-b45b-4603-80c8-48711dd5fd9a"
      },
      "source": [
        "U = gsBasis4(V)\n",
        "gsBasis4(U)"
      ],
      "execution_count": 3,
      "outputs": [
        {
          "output_type": "execute_result",
          "data": {
            "text/plain": [
              "array([[ 0.40824829, -0.1814885 ,  0.04982278,  0.89325973],\n",
              "       [ 0.        ,  0.1088931 ,  0.99349591, -0.03328918],\n",
              "       [ 0.81649658,  0.50816781, -0.06462163, -0.26631346],\n",
              "       [ 0.40824829, -0.83484711,  0.07942048, -0.36063281]])"
            ]
          },
          "metadata": {
            "tags": []
          },
          "execution_count": 3
        }
      ]
    },
    {
      "cell_type": "code",
      "metadata": {
        "colab": {
          "base_uri": "https://localhost:8080/"
        },
        "id": "mFRQNpx8az7m",
        "outputId": "4f2455cb-c6d7-4a1c-80cc-22eb32ffdcad"
      },
      "source": [
        "gsBasis(V)"
      ],
      "execution_count": 4,
      "outputs": [
        {
          "output_type": "execute_result",
          "data": {
            "text/plain": [
              "array([[ 0.40824829, -0.1814885 ,  0.04982278,  0.89325973],\n",
              "       [ 0.        ,  0.1088931 ,  0.99349591, -0.03328918],\n",
              "       [ 0.81649658,  0.50816781, -0.06462163, -0.26631346],\n",
              "       [ 0.40824829, -0.83484711,  0.07942048, -0.36063281]])"
            ]
          },
          "metadata": {
            "tags": []
          },
          "execution_count": 4
        }
      ]
    },
    {
      "cell_type": "code",
      "metadata": {
        "colab": {
          "base_uri": "https://localhost:8080/"
        },
        "id": "sMaolSW3a41W",
        "outputId": "145436e3-a641-49fa-f27f-3b0842650e0e"
      },
      "source": [
        "A = np.array([[3,2,3],\n",
        "              [2,5,-1],\n",
        "              [2,4,8],\n",
        "              [12,2,1]], dtype=np.float_)\n",
        "gsBasis(A)"
      ],
      "execution_count": 5,
      "outputs": [
        {
          "output_type": "execute_result",
          "data": {
            "text/plain": [
              "array([[ 0.23643312,  0.18771349,  0.22132104],\n",
              "       [ 0.15762208,  0.74769023, -0.64395812],\n",
              "       [ 0.15762208,  0.57790444,  0.72904263],\n",
              "       [ 0.94573249, -0.26786082, -0.06951101]])"
            ]
          },
          "metadata": {
            "tags": []
          },
          "execution_count": 5
        }
      ]
    },
    {
      "cell_type": "code",
      "metadata": {
        "colab": {
          "base_uri": "https://localhost:8080/"
        },
        "id": "AuNQ52TEa9Gm",
        "outputId": "c4e5c8ff-1ff6-4859-cfcf-59ee55ba64c6"
      },
      "source": [
        "dimensions(A)"
      ],
      "execution_count": 6,
      "outputs": [
        {
          "output_type": "execute_result",
          "data": {
            "text/plain": [
              "3.0"
            ]
          },
          "metadata": {
            "tags": []
          },
          "execution_count": 6
        }
      ]
    },
    {
      "cell_type": "code",
      "metadata": {
        "colab": {
          "base_uri": "https://localhost:8080/"
        },
        "id": "uEUWNsplbCIA",
        "outputId": "3f2f608a-93f2-4cc3-d046-ef7d2eea4762"
      },
      "source": [
        "B = np.array([[6,2,1,7,5],\n",
        "              [2,8,5,-4,1],\n",
        "              [1,-6,3,2,8]], dtype=np.float_)\n",
        "gsBasis(B)"
      ],
      "execution_count": 7,
      "outputs": [
        {
          "output_type": "execute_result",
          "data": {
            "text/plain": [
              "array([[ 0.93704257, -0.12700832, -0.32530002,  0.        ,  0.        ],\n",
              "       [ 0.31234752,  0.72140727,  0.61807005,  0.        ,  0.        ],\n",
              "       [ 0.15617376, -0.6807646 ,  0.71566005,  0.        ,  0.        ]])"
            ]
          },
          "metadata": {
            "tags": []
          },
          "execution_count": 7
        }
      ]
    },
    {
      "cell_type": "code",
      "metadata": {
        "colab": {
          "base_uri": "https://localhost:8080/"
        },
        "id": "G7eWHkvAbFb3",
        "outputId": "c32fb971-5bea-489f-ab5b-f4a7c778b7e3"
      },
      "source": [
        "dimensions(B)"
      ],
      "execution_count": 8,
      "outputs": [
        {
          "output_type": "execute_result",
          "data": {
            "text/plain": [
              "3.0"
            ]
          },
          "metadata": {
            "tags": []
          },
          "execution_count": 8
        }
      ]
    },
    {
      "cell_type": "code",
      "metadata": {
        "colab": {
          "base_uri": "https://localhost:8080/"
        },
        "id": "-Nemel_tbG01",
        "outputId": "3baad710-11a2-4800-854e-a926b433cc50"
      },
      "source": [
        "# Now let's see what happens when we have one vector that is a linear combination of the others.\n",
        "C = np.array([[1,0,2],\n",
        "              [0,1,-3],\n",
        "              [1,0,2]], dtype=np.float_)\n",
        "gsBasis(C)"
      ],
      "execution_count": 9,
      "outputs": [
        {
          "output_type": "execute_result",
          "data": {
            "text/plain": [
              "array([[0.70710678, 0.        , 0.        ],\n",
              "       [0.        , 1.        , 0.        ],\n",
              "       [0.70710678, 0.        , 0.        ]])"
            ]
          },
          "metadata": {
            "tags": []
          },
          "execution_count": 9
        }
      ]
    },
    {
      "cell_type": "code",
      "metadata": {
        "colab": {
          "base_uri": "https://localhost:8080/"
        },
        "id": "_5mQpWIvbJm2",
        "outputId": "7a6a2ec2-6c3a-426b-ebf4-a19413288a2d"
      },
      "source": [
        "\n",
        "dimensions(C)"
      ],
      "execution_count": 10,
      "outputs": [
        {
          "output_type": "execute_result",
          "data": {
            "text/plain": [
              "2.0"
            ]
          },
          "metadata": {
            "tags": []
          },
          "execution_count": 10
        }
      ]
    },
    {
      "cell_type": "markdown",
      "metadata": {
        "id": "ctJhVEJzbPV-"
      },
      "source": [
        "### **Identifying special matrices**"
      ]
    },
    {
      "cell_type": "code",
      "metadata": {
        "id": "D-xxzQJlbYXN"
      },
      "source": [
        "import numpy as np\n",
        "\n",
        "# Our function will go through the matrix replacing each row in order turning it into echelon form.\n",
        "# If at any point it fails because it can't put a 1 in the leading diagonal,\n",
        "# we will return the value True, otherwise, we will return False.\n",
        "\n",
        "\n",
        "\n",
        "def isSingular(A) :\n",
        "    B = np.array(A, dtype=np.float_) \n",
        "    try:\n",
        "        fixRowZero(B)\n",
        "        fixRowOne(B)\n",
        "        fixRowTwo(B)\n",
        "        fixRowThree(B)\n",
        "    except MatrixIsSingular:\n",
        "        return True\n",
        "    return False\n",
        "\n",
        "\n",
        "class MatrixIsSingular(Exception): pass\n",
        "\n",
        "\n",
        "# For Row Zero, all we require is the first element is equal to 1.\n",
        "# We'll divide the row by the value of A[0, 0].\n",
        "# This will get us in trouble though if A[0, 0] equals 0, so first we'll test for that,\n",
        "# and if this is true, we'll add one of the lower rows to the first one before the division.\n",
        "# We'll repeat the test going down each lower row until we can do the division.\n",
        "def fixRowZero(A) :\n",
        "    if A[0,0] == 0 :\n",
        "        A[0] = A[0] + A[1]\n",
        "    if A[0,0] == 0 :\n",
        "        A[0] = A[0] + A[2]\n",
        "    if A[0,0] == 0 :\n",
        "        A[0] = A[0] + A[3]\n",
        "    if A[0,0] == 0 :\n",
        "        raise MatrixIsSingular()\n",
        "    A[0] = A[0] / A[0,0]\n",
        "    return A\n",
        "\n",
        "# First we'll set the sub-diagonal elements to zero, i.e. A[1,0].\n",
        "# Next we want the diagonal element to be equal to one.\n",
        "# We'll divide the row by the value of A[1, 1].\n",
        "# Again, we need to test if this is zero.\n",
        "# If so, we'll add a lower row and repeat setting the sub-diagonal elements to zero.\n",
        "def fixRowOne(A) :\n",
        "    A[1] = A[1] - A[1,0] * A[0]\n",
        "    if A[1,1] == 0 :\n",
        "        A[1] = A[1] + A[2]\n",
        "        A[1] = A[1] - A[1,0] * A[0]\n",
        "    if A[1,1] == 0 :\n",
        "        A[1] = A[1] + A[3]\n",
        "        A[1] = A[1] - A[1,0] * A[0]\n",
        "    if A[1,1] == 0 :\n",
        "        raise MatrixIsSingular()\n",
        "    A[1] = A[1] / A[1,1]\n",
        "    return A\n",
        "\n",
        "\n",
        "def fixRowTwo(A) :\n",
        "    # Insert code below to set the sub-diagonal elements of row two to zero (there are two of them).\n",
        "    A[2] = A[2] - A[2,0] * A[0]\n",
        "    A[2] = A[2] - A[2,1] * A[1]\n",
        "    \n",
        "    # Next we'll test that the diagonal element is not zero.\n",
        "    if A[2,2] == 0 :\n",
        "        # adds a lower row to row 2.\n",
        "        A[2] = A[2] + A[3]\n",
        "        # Set the sub-diagonal elements to zero.\n",
        "        A[2] = A[2] - A[2,0] * A[0]\n",
        "        A[2] = A[2] - A[2,1] * A[1]\n",
        "        \n",
        "    if A[2,2] == 0 :\n",
        "        raise MatrixIsSingular()\n",
        "    # Finally set the diagonal element to one by dividing the whole row by that element.\n",
        "    A[2] = A[2] / A[2,2]\n",
        "    \n",
        "    return A\n",
        "\n",
        "\n",
        "\n",
        "def fixRowThree(A) :\n",
        "    #Set the sub-diagonal elements of row three to zero.\n",
        "    A[3] = A[3] - A[3,0] * A[0]\n",
        "    A[3] = A[3] - A[3,1] * A[1]\n",
        "    A[3] = A[3] - A[3,2] * A[2]\n",
        "    \n",
        "    if A[3, 3] == 0:\n",
        "        raise MatrixIsSingular()\n",
        "    # Transform the row to set the diagonal element to one.\n",
        "    A[3] = A[3] / A[3,3]\n",
        "    \n",
        "    return A"
      ],
      "execution_count": 11,
      "outputs": []
    },
    {
      "cell_type": "markdown",
      "metadata": {
        "id": "mbqoDuFwch4o"
      },
      "source": [
        "# **Test**"
      ]
    },
    {
      "cell_type": "code",
      "metadata": {
        "colab": {
          "base_uri": "https://localhost:8080/"
        },
        "id": "JIZ-NF_MckNX",
        "outputId": "35322018-ef64-4870-d1ed-b111163e7bca"
      },
      "source": [
        "A = np.array([\n",
        "        [2, 0, 0, 0],\n",
        "        [0, 3, 0, 0],\n",
        "        [0, 0, 4, 4],\n",
        "        [0, 0, 5, 5]\n",
        "    ], dtype=np.float_)\n",
        "isSingular(A)"
      ],
      "execution_count": 12,
      "outputs": [
        {
          "output_type": "execute_result",
          "data": {
            "text/plain": [
              "True"
            ]
          },
          "metadata": {
            "tags": []
          },
          "execution_count": 12
        }
      ]
    },
    {
      "cell_type": "code",
      "metadata": {
        "colab": {
          "base_uri": "https://localhost:8080/"
        },
        "id": "gxmMgcFgcm-X",
        "outputId": "0df4934b-bf12-4c7e-a659-b95336c71cb4"
      },
      "source": [
        "\n",
        "A = np.array([\n",
        "        [0, 7, -5, 3],\n",
        "        [2, 8, 0, 4],\n",
        "        [3, 12, 0, 5],\n",
        "        [1, 3, 1, 3]\n",
        "    ], dtype=np.float_)\n",
        "fixRowZero(A)"
      ],
      "execution_count": 13,
      "outputs": [
        {
          "output_type": "execute_result",
          "data": {
            "text/plain": [
              "array([[ 1. ,  7.5, -2.5,  3.5],\n",
              "       [ 2. ,  8. ,  0. ,  4. ],\n",
              "       [ 3. , 12. ,  0. ,  5. ],\n",
              "       [ 1. ,  3. ,  1. ,  3. ]])"
            ]
          },
          "metadata": {
            "tags": []
          },
          "execution_count": 13
        }
      ]
    },
    {
      "cell_type": "code",
      "metadata": {
        "colab": {
          "base_uri": "https://localhost:8080/"
        },
        "id": "ldWWkc1McpQA",
        "outputId": "d02d488f-9c17-49ff-b6d9-e13ba0f7a05f"
      },
      "source": [
        "fixRowOne(A)"
      ],
      "execution_count": 14,
      "outputs": [
        {
          "output_type": "execute_result",
          "data": {
            "text/plain": [
              "array([[ 1.        ,  7.5       , -2.5       ,  3.5       ],\n",
              "       [-0.        ,  1.        , -0.71428571,  0.42857143],\n",
              "       [ 3.        , 12.        ,  0.        ,  5.        ],\n",
              "       [ 1.        ,  3.        ,  1.        ,  3.        ]])"
            ]
          },
          "metadata": {
            "tags": []
          },
          "execution_count": 14
        }
      ]
    },
    {
      "cell_type": "code",
      "metadata": {
        "colab": {
          "base_uri": "https://localhost:8080/"
        },
        "id": "bvkADF9ictnP",
        "outputId": "882653ee-ae27-4629-a8e0-2d4cc470c9ce"
      },
      "source": [
        "fixRowTwo(A)"
      ],
      "execution_count": 15,
      "outputs": [
        {
          "output_type": "execute_result",
          "data": {
            "text/plain": [
              "array([[ 1.        ,  7.5       , -2.5       ,  3.5       ],\n",
              "       [-0.        ,  1.        , -0.71428571,  0.42857143],\n",
              "       [ 0.        ,  0.        ,  1.        ,  1.5       ],\n",
              "       [ 1.        ,  3.        ,  1.        ,  3.        ]])"
            ]
          },
          "metadata": {
            "tags": []
          },
          "execution_count": 15
        }
      ]
    },
    {
      "cell_type": "code",
      "metadata": {
        "colab": {
          "base_uri": "https://localhost:8080/"
        },
        "id": "x4HI6Y9Lcx2m",
        "outputId": "1e81dac8-2176-4e70-d724-ce8452b914c0"
      },
      "source": [
        "fixRowThree(A)"
      ],
      "execution_count": 16,
      "outputs": [
        {
          "output_type": "execute_result",
          "data": {
            "text/plain": [
              "array([[ 1.        ,  7.5       , -2.5       ,  3.5       ],\n",
              "       [-0.        ,  1.        , -0.71428571,  0.42857143],\n",
              "       [ 0.        ,  0.        ,  1.        ,  1.5       ],\n",
              "       [ 0.        ,  0.        ,  0.        ,  1.        ]])"
            ]
          },
          "metadata": {
            "tags": []
          },
          "execution_count": 16
        }
      ]
    },
    {
      "cell_type": "markdown",
      "metadata": {
        "id": "jkcbeP3JdPeN"
      },
      "source": [
        "## **PageRank Algo**"
      ]
    },
    {
      "cell_type": "markdown",
      "metadata": {
        "id": "2tld5gbsdU0f"
      },
      "source": [
        "PageRank as a linear algebra problem\n",
        "Let's imagine a micro-internet, with just 6 websites (Avocado, Bullseye, CatBabel, Dromeda, eTings, and FaceSpace). Each website links to some of the others, and this forms a network as shown,\n",
        "\n",
        "A Micro-Internet\n",
        "\n",
        "The design principle of PageRank is that important websites will be linked to by important websites. This somewhat recursive principle will form the basis of our thinking.\n",
        "\n",
        "Imagine we have 100 Procrastinating Pats on our micro-internet, each viewing a single website at a time. Each minute the Pats follow a link on their website to another site on the micro-internet. After a while, the websites that are most linked to will have more Pats visiting them, and in the long run, each minute for every Pat that leaves a website, another will enter keeping the total numbers of Pats on each website constant. The PageRank is simply the ranking of websites by how many Pats they have on them at the end of this process.\n",
        "\n",
        "We represent the number of Pats on each website with the vector,$$\\mathbf{r} = \\begin{bmatrix} r_A \\\\ r_B \\\\ r_C \\\\ r_D \\\\ r_E \\\\ r_F \\end{bmatrix}$$And say that the number of Pats on each website in minute $i+1$ is related to those at minute $i$ by the matrix transformation\n",
        "\n",
        "$$ \\mathbf{r}^{(i+1)} = L \\,\\mathbf{r}^{(i)}$$\n",
        "with the matrix $L$ taking the form,$$ L = \\begin{bmatrix}\n",
        "L_{A→A} &amp; L_{B→A} &amp; L_{C→A} &amp; L_{D→A} &amp; L_{E→A} &amp; L_{F→A} \\\\\n",
        "L_{A→B} &amp; L_{B→B} &amp; L_{C→B} &amp; L_{D→B} &amp; L_{E→B} &amp; L_{F→B} \\\\\n",
        "L_{A→C} &amp; L_{B→C} &amp; L_{C→C} &amp; L_{D→C} &amp; L_{E→C} &amp; L_{F→C} \\\\\n",
        "L_{A→D} &amp; L_{B→D} &amp; L_{C→D} &amp; L_{D→D} &amp; L_{E→D} &amp; L_{F→D} \\\\\n",
        "L_{A→E} &amp; L_{B→E} &amp; L_{C→E} &amp; L_{D→E} &amp; L_{E→E} &amp; L_{F→E} \\\\\n",
        "L_{A→F} &amp; L_{B→F} &amp; L_{C→F} &amp; L_{D→F} &amp; L_{E→F} &amp; L_{F→F} \\\\\n",
        "\\end{bmatrix}\n",
        "$$where the columns represent the probability of leaving a website for any other website, and sum to one. The rows determine how likely you are to enter a website from any other, though these need not add to one. The long time behaviour of this system is when $ \\mathbf{r}^{(i+1)} = \\mathbf{r}^{(i)}$, so we'll drop the superscripts here, and that allows us to write,$$ L \\,\\mathbf{r} = \\mathbf{r}$$\n",
        "\n",
        "which is an eigenvalue equation for the matrix $L$, with eigenvalue 1 (this is guaranteed by the probabalistic structure of the matrix $L$)."
      ]
    },
    {
      "cell_type": "code",
      "metadata": {
        "colab": {
          "base_uri": "https://localhost:8080/",
          "height": 370
        },
        "id": "rgi_qfPTdmuV",
        "outputId": "a9d12272-8478-4b78-f9d7-c9d2f0a40f2d"
      },
      "source": [
        "%pylab notebook\n",
        "import numpy as np\n",
        "import numpy.linalg as la\n",
        "import readonly\n",
        "from readonly.PageRankFunctions import *\n",
        "np.set_printoptions(suppress=True)"
      ],
      "execution_count": 20,
      "outputs": [
        {
          "output_type": "stream",
          "text": [
            "Populating the interactive namespace from numpy and matplotlib\n"
          ],
          "name": "stdout"
        },
        {
          "output_type": "error",
          "ename": "ModuleNotFoundError",
          "evalue": "ignored",
          "traceback": [
            "\u001b[0;31m---------------------------------------------------------------------------\u001b[0m",
            "\u001b[0;31mModuleNotFoundError\u001b[0m                       Traceback (most recent call last)",
            "\u001b[0;32m<ipython-input-20-83a806de0830>\u001b[0m in \u001b[0;36m<module>\u001b[0;34m()\u001b[0m\n\u001b[1;32m      2\u001b[0m \u001b[0;32mimport\u001b[0m \u001b[0mnumpy\u001b[0m \u001b[0;32mas\u001b[0m \u001b[0mnp\u001b[0m\u001b[0;34m\u001b[0m\u001b[0;34m\u001b[0m\u001b[0m\n\u001b[1;32m      3\u001b[0m \u001b[0;32mimport\u001b[0m \u001b[0mnumpy\u001b[0m\u001b[0;34m.\u001b[0m\u001b[0mlinalg\u001b[0m \u001b[0;32mas\u001b[0m \u001b[0mla\u001b[0m\u001b[0;34m\u001b[0m\u001b[0;34m\u001b[0m\u001b[0m\n\u001b[0;32m----> 4\u001b[0;31m \u001b[0;32mimport\u001b[0m \u001b[0mreadonly\u001b[0m\u001b[0;34m\u001b[0m\u001b[0;34m\u001b[0m\u001b[0m\n\u001b[0m\u001b[1;32m      5\u001b[0m \u001b[0;32mfrom\u001b[0m \u001b[0mreadonly\u001b[0m\u001b[0;34m.\u001b[0m\u001b[0mPageRankFunctions\u001b[0m \u001b[0;32mimport\u001b[0m \u001b[0;34m*\u001b[0m\u001b[0;34m\u001b[0m\u001b[0;34m\u001b[0m\u001b[0m\n\u001b[1;32m      6\u001b[0m \u001b[0mnp\u001b[0m\u001b[0;34m.\u001b[0m\u001b[0mset_printoptions\u001b[0m\u001b[0;34m(\u001b[0m\u001b[0msuppress\u001b[0m\u001b[0;34m=\u001b[0m\u001b[0;32mTrue\u001b[0m\u001b[0;34m)\u001b[0m\u001b[0;34m\u001b[0m\u001b[0;34m\u001b[0m\u001b[0m\n",
            "\u001b[0;31mModuleNotFoundError\u001b[0m: No module named 'readonly'",
            "",
            "\u001b[0;31m---------------------------------------------------------------------------\u001b[0;32m\nNOTE: If your import is failing due to a missing package, you can\nmanually install dependencies using either !pip or !apt.\n\nTo view examples of installing some common dependencies, click the\n\"Open Examples\" button below.\n\u001b[0;31m---------------------------------------------------------------------------\u001b[0m\n"
          ]
        }
      ]
    },
    {
      "cell_type": "code",
      "metadata": {
        "id": "k80OQsuadtNO"
      },
      "source": [
        "L = np.array([[0,   1/2, 1/3, 0, 0,   0  ],\n",
        "              [1/3, 0,   0,   0, 1/2, 0  ],\n",
        "              [1/3, 1/2, 0,   1, 0,   1/2 ],\n",
        "              [1/3, 0,   1/3, 0, 1/2, 1/2 ],\n",
        "              [0,   0,   0,   0, 0,   0   ],\n",
        "              [0,   0,   1/3, 0, 0,   0   ]])"
      ],
      "execution_count": 18,
      "outputs": []
    },
    {
      "cell_type": "markdown",
      "metadata": {
        "id": "oKC3jXNZebqi"
      },
      "source": [
        "In principle, we could use a linear algebra library, as below, to calculate the eigenvalues and vectors. And this would work for a small system. But this gets unmanagable for large systems. And since we only care about the principal eigenvector (the one with the largest eigenvalue, which will be 1 in this case), we can use the power iteration method which will scale better, and is faster for large systems.\n",
        "\n",
        "Use the code below to peek at the PageRank for this micro-internet."
      ]
    },
    {
      "cell_type": "code",
      "metadata": {
        "colab": {
          "base_uri": "https://localhost:8080/"
        },
        "id": "kZ0FY5uSee3l",
        "outputId": "a7436f96-a919-415c-80a8-03f5307da096"
      },
      "source": [
        "eVals, eVecs = la.eig(L) # Gets the eigenvalues and vectors\n",
        "order = np.absolute(eVals).argsort()[::-1] # Orders them by their eigenvalues\n",
        "eVals = eVals[order]\n",
        "eVecs = eVecs[:,order]\n",
        "\n",
        "r = eVecs[:, 0] # Sets r to be the principal eigenvector\n",
        "100 * np.real(r / np.sum(r)) # Make this eigenvector sum to one, then multiply by 100 Procrastinating Pats"
      ],
      "execution_count": 21,
      "outputs": [
        {
          "output_type": "execute_result",
          "data": {
            "text/plain": [
              "array([16.        ,  5.33333333, 40.        , 25.33333333,  0.        ,\n",
              "       13.33333333])"
            ]
          },
          "metadata": {
            "tags": []
          },
          "execution_count": 21
        }
      ]
    },
    {
      "cell_type": "markdown",
      "metadata": {
        "id": "-GwoC6Xpg_V9"
      },
      "source": [
        "We can see from this list, the number of Procrastinating Pats that we expect to find on each website after long times. Putting them in order of popularity (based on this metric), the PageRank of this micro-internet is:\n",
        "\n",
        "CatBabel, Dromeda, Avocado, FaceSpace, Bullseye, eTings\n",
        "\n",
        "\n",
        "Let's now try to get the same result using the Power-Iteration method. This method should be much better at dealing with large systems.\n",
        "\n",
        "\n",
        "\n",
        "First let's set up our initial vector, $\\mathbf{r}^{(0)}$, so that we have our 100 Procrastinating Pats equally distributed on each of our 6 websites."
      ]
    },
    {
      "cell_type": "code",
      "metadata": {
        "colab": {
          "base_uri": "https://localhost:8080/"
        },
        "id": "_AsongHRhNyk",
        "outputId": "8696ed6f-b0ea-4ad6-b08b-96d3fdd90ab8"
      },
      "source": [
        "r = 100 * np.ones(6) / 6 # Sets up this vector (6 entries of 1/6 × 100 each)\n",
        "r # Shows it's value"
      ],
      "execution_count": 22,
      "outputs": [
        {
          "output_type": "execute_result",
          "data": {
            "text/plain": [
              "array([16.66666667, 16.66666667, 16.66666667, 16.66666667, 16.66666667,\n",
              "       16.66666667])"
            ]
          },
          "metadata": {
            "tags": []
          },
          "execution_count": 22
        }
      ]
    },
    {
      "cell_type": "markdown",
      "metadata": {
        "id": "o9b_bRwKhU16"
      },
      "source": [
        "Next, let's update the vector to the next minute, with the matrix $L$. Run the following cell multiple times, until the answer stabilises."
      ]
    },
    {
      "cell_type": "code",
      "metadata": {
        "colab": {
          "base_uri": "https://localhost:8080/"
        },
        "id": "8YThQzSPhYDO",
        "outputId": "b380358f-bbd8-4058-a955-3f778876688e"
      },
      "source": [
        "r = L @ r # Apply matrix L to r\n",
        "r # Show it's value\n",
        "# Re-run this cell multiple times to converge to the correct answer.\n",
        "r = L @ L @ L @ L @ L @ r\n",
        "r"
      ],
      "execution_count": 34,
      "outputs": [
        {
          "output_type": "execute_result",
          "data": {
            "text/plain": [
              "array([16.        ,  5.33333333, 40.        , 25.33333333,  0.        ,\n",
              "       13.33333333])"
            ]
          },
          "metadata": {
            "tags": []
          },
          "execution_count": 34
        }
      ]
    },
    {
      "cell_type": "markdown",
      "metadata": {
        "id": "qzJrR7wchmja"
      },
      "source": [
        "We can automate applying this matrix multiple times as follows,"
      ]
    },
    {
      "cell_type": "code",
      "metadata": {
        "colab": {
          "base_uri": "https://localhost:8080/"
        },
        "id": "4NZ7Kkj0hix3",
        "outputId": "379da082-8354-46f7-cb94-bbccdabd63a6"
      },
      "source": [
        "r = 100 * np.ones(6) / 6 # Sets up this vector (6 entries of 1/6 × 100 each)\n",
        "for i in np.arange(100) : # Repeat 100 times\n",
        "    r = L @ r\n",
        "r"
      ],
      "execution_count": 35,
      "outputs": [
        {
          "output_type": "execute_result",
          "data": {
            "text/plain": [
              "array([16.        ,  5.33333333, 40.        , 25.33333333,  0.        ,\n",
              "       13.33333333])"
            ]
          },
          "metadata": {
            "tags": []
          },
          "execution_count": 35
        }
      ]
    },
    {
      "cell_type": "code",
      "metadata": {
        "colab": {
          "base_uri": "https://localhost:8080/"
        },
        "id": "-61LF5AshqpM",
        "outputId": "f7c41adf-fc1c-4771-8927-b9e2a633eb50"
      },
      "source": [
        "\n",
        "r = 100 * np.ones(6) / 6 # Sets up this vector (6 entries of 1/6 × 100 each)\n",
        "lastR = r\n",
        "r = L @ r\n",
        "i = 0\n",
        "while la.norm(lastR - r) > 0.01 :\n",
        "    lastR = r\n",
        "    r = L @ r\n",
        "    i += 1\n",
        "print(str(i) + \" iterations to convergence.\")\n",
        "r"
      ],
      "execution_count": 37,
      "outputs": [
        {
          "output_type": "stream",
          "text": [
            "18 iterations to convergence.\n"
          ],
          "name": "stdout"
        },
        {
          "output_type": "execute_result",
          "data": {
            "text/plain": [
              "array([16.00149917,  5.33252025, 39.99916911, 25.3324738 ,  0.        ,\n",
              "       13.33433767])"
            ]
          },
          "metadata": {
            "tags": []
          },
          "execution_count": 37
        }
      ]
    },
    {
      "cell_type": "markdown",
      "metadata": {
        "id": "nC2_Cmi2h-0S"
      },
      "source": [
        "\n",
        "## **Damping Parameter**\n",
        "\n",
        "\n",
        "The system we just studied converged fairly quickly to the correct answer. Let's consider an extension to our micro-internet where things start to go wrong.\n",
        "\n",
        "Say a new website is added to the micro-internet: Geoff's Website. This website is linked to by FaceSpace and only links to itself.An Expanded Micro-Internet\n",
        "\n",
        "Intuitively, only FaceSpace, which is in the bottom half of the page rank, links to this website amongst the two others it links to, so we might expect Geoff's site to have a correspondingly low PageRank score.\n",
        "\n",
        "Build the new $L$ matrix for the expanded micro-internet, and use Power-Iteration on the Procrastinating Pat vector. See what happens…"
      ]
    },
    {
      "cell_type": "code",
      "metadata": {
        "id": "RVdkeX0mhx8Z"
      },
      "source": [
        "L2 = np.array([[0,   1/2, 1/3, 0, 0,   0,   0 ],\n",
        "               [1/3, 0,   0,   0, 1/2, 0,   0 ],\n",
        "               [1/3, 1/2, 0,   1, 0,   1/3, 0 ],\n",
        "               [1/3, 0,   1/3, 0, 1/2, 1/3, 0 ],\n",
        "               [0,   0,   0,   0, 0,   0,   0 ],\n",
        "               [0,   0,   1/3, 0, 0,   0,   0 ],\n",
        "               [0,   0,   0,   0, 0,   1/3, 1 ]])"
      ],
      "execution_count": 38,
      "outputs": []
    },
    {
      "cell_type": "code",
      "metadata": {
        "colab": {
          "base_uri": "https://localhost:8080/"
        },
        "id": "1k-D2HGjiSJ0",
        "outputId": "55ebc3bc-8f0f-43ab-f054-29b7b28f3e3e"
      },
      "source": [
        "r = 100 * np.ones(7) / 7 # Sets up this vector (6 entries of 1/6 × 100 each)\n",
        "lastR = r\n",
        "r = L2 @ r\n",
        "i = 0\n",
        "while la.norm(lastR - r) > 0.01 :\n",
        "    lastR = r\n",
        "    r = L2 @ r\n",
        "    i += 1\n",
        "print(str(i) + \" iterations to convergence.\")\n",
        "r"
      ],
      "execution_count": 39,
      "outputs": [
        {
          "output_type": "stream",
          "text": [
            "131 iterations to convergence.\n"
          ],
          "name": "stdout"
        },
        {
          "output_type": "execute_result",
          "data": {
            "text/plain": [
              "array([3.04699778e-02, 1.06432333e-02, 7.12661184e-02, 4.42319808e-02,\n",
              "       0.00000000e+00, 2.48934190e-02, 9.98184953e+01])"
            ]
          },
          "metadata": {
            "tags": []
          },
          "execution_count": 39
        }
      ]
    },
    {
      "cell_type": "markdown",
      "metadata": {
        "id": "iASQt3DmidEM"
      },
      "source": [
        "That's no good! Geoff seems to be taking all the traffic on the micro-internet, and somehow coming at the top of the PageRank. This behaviour can be understood, because once a Pat get's to Geoff's Website, they can't leave, as all links head back to Geoff.\n",
        "\n",
        "To combat this, we can add a small probability that the Procrastinating Pats don't follow any link on a webpage, but instead visit a website on the micro-internet at random. We'll say the probability of them following a link is $d$ and the probability of choosing a random website is therefore $1-d$. We can use a new matrix to work out where the Pat's visit each minute.$$ M = d \\, L + \\frac{1-d}{n} \\, J $$where $J$ is an $n\\times n$ matrix where every element is one.\n",
        "\n",
        "If $d$ is one, we have the case we had previously, whereas if $d$ is zero, we will always visit a random webpage and therefore all webpages will be equally likely and equally ranked. For this extension to work best, $1-d$ should be somewhat small - though we won't go into a discussion about exactly how small.\n",
        "\n",
        "Let's retry this PageRank with this extension."
      ]
    },
    {
      "cell_type": "code",
      "metadata": {
        "id": "zRwVci1VjR6h"
      },
      "source": [
        "\n",
        "d = 0.5 \n",
        "M = d * L2 + (1-d)/7 * np.ones([7, 7])"
      ],
      "execution_count": 40,
      "outputs": []
    },
    {
      "cell_type": "code",
      "metadata": {
        "colab": {
          "base_uri": "https://localhost:8080/"
        },
        "id": "PMXcgroGjaJ3",
        "outputId": "28988f57-b33d-4f81-eaf4-4846e67c48c2"
      },
      "source": [
        "r = 100 * np.ones(7) / 7 # Sets up this vector (6 entries of 1/6 × 100 each)\n",
        "lastR = r\n",
        "r = M @ r\n",
        "i = 0\n",
        "while la.norm(lastR - r) > 0.01 :\n",
        "    lastR = r\n",
        "    r = M @ r\n",
        "    i += 1\n",
        "print(str(i) + \" iterations to convergence.\")\n",
        "r"
      ],
      "execution_count": 41,
      "outputs": [
        {
          "output_type": "stream",
          "text": [
            "8 iterations to convergence.\n"
          ],
          "name": "stdout"
        },
        {
          "output_type": "execute_result",
          "data": {
            "text/plain": [
              "array([13.68217054, 11.20902965, 22.41964343, 16.7593433 ,  7.14285714,\n",
              "       10.87976354, 17.90719239])"
            ]
          },
          "metadata": {
            "tags": []
          },
          "execution_count": 41
        }
      ]
    },
    {
      "cell_type": "markdown",
      "metadata": {
        "id": "fBqShcwrjnsm"
      },
      "source": [
        "This is certainly better, the PageRank gives sensible numbers for the Procrastinating Pats that end up on each webpage"
      ]
    },
    {
      "cell_type": "markdown",
      "metadata": {
        "id": "z28reqC5jrIC"
      },
      "source": [
        "### **Reflecting Bear**"
      ]
    },
    {
      "cell_type": "markdown",
      "metadata": {
        "id": "CjECTfoUnL5N"
      },
      "source": [
        "**Background**\n",
        "\n",
        "Panda Bear is confused. He is trying to work out how things should look when reflected in a mirror, but is getting the wrong results. As is the way with bears, his coordinate system is not orthonormal: so what he thinks is the direction perpendicular to the mirror isn't actually the direction the mirror reflects in. Help Bear write a code that will do his matrix calculations properly!\n",
        "\n",
        "**Instructions**\n",
        "\n",
        "In this assignment you will write a Python function that will produce a transformation matrix for reflecting vectors in an arbitrarily angled mirror.\n",
        "\n",
        "Building on the last assingment, where you wrote a code to construct an orthonormal basis that spans a set of input vectors, here you will take a matrix which takes simple form in that basis, and transform it into our starting basis. Recall the from the last video,\n",
        "\n",
        "$ T = E T_E E^{-1} $\n",
        "\n",
        "You will write a function that will construct this matrix. This assessment is not conceptually complicated, but will build and test your ability to express mathematical ideas in code. As such, your final code submission will be relatively short, but you will receive less structure on how to write it."
      ]
    },
    {
      "cell_type": "code",
      "metadata": {
        "id": "X-l__kIb4fDw"
      },
      "source": [
        "import matplotlib\n",
        "matplotlib.use('Agg')\n",
        "import matplotlib.pyplot as plt\n",
        "import numpy as np\n",
        "import numpy.linalg as la\n",
        "\n",
        "bear_black = (0.141,0.11,0.11)\n",
        "bear_white = (0.89,0.856,0.856)\n",
        "magenta = (0xfc/255, 0x75/255, 0xdb/255) # Brighter magenta\n",
        "orange = (218/255, 171/255, 115/255)\n",
        "green = (175/255, 219/255, 133/255)\n",
        "white = (240/255, 245/255, 250/255)\n",
        "blue1 = (70/255, 101/255, 137/255)\n",
        "blue2 = (122/255, 174/255, 215/255)\n",
        "\n",
        "def gsBasis(A) :\n",
        "    B = np.array(A, dtype=np.float_)\n",
        "    B[:, 0] = B[:, 0] / la.norm(B[:, 0])\n",
        "    B[:, 1] = B[:, 1] - B[:, 1] @ B[:, 0] * B[:, 0]\n",
        "    if la.norm(B[:, 1]) > 1e-14 :\n",
        "        B[:, 1] = B[:, 1] / la.norm(B[:, 1])\n",
        "    else :\n",
        "        B[:, 1] = np.zeros_like(B[:,1])\n",
        "    return B\n",
        "\n",
        "\n",
        "def draw_mirror(bearVectors) :\n",
        "    fig,ax = plt.subplots(figsize=(12, 12), dpi= 80)\n",
        "    ax.set_xlim([-3.50,3.50])\n",
        "    ax.set_ylim([-3.50,3.50])\n",
        "    ax.set_aspect(1)\n",
        "    #ax.set_axis_bgcolor(blue1)    \n",
        "    gs=gsBasis(bearVectors)\n",
        "    ax.plot([gs[0,0]*-5,gs[0,0]*5],[gs[1,0]*-5,gs[1,0]*5], lw=2, color=green, zorder=4)\n",
        "    ax.fill([\n",
        "            -5*gs[0,0],-5*gs[0,0]-5*gs[0,1], 5*gs[0,0]-5*gs[0,1],5*gs[0,0]\n",
        "        ],[\n",
        "            -5*gs[1,0],-5*gs[1,0]-5*gs[1,1], 5*gs[1,0]-5*gs[1,1],5*gs[1,0]\n",
        "        ], color=blue2, zorder=0)\n",
        "    ax.arrow(0,0,bearVectors[0,0],bearVectors[1,0], lw=3, color=orange, zorder=5, head_width=0.1)\n",
        "    ax.arrow(0,0,bearVectors[0,1],bearVectors[1,1], lw=3, color=orange, zorder=5, head_width=0.1)\n",
        "    ax.arrow(0,0,gs[0,0],gs[1,0], lw=3, color=magenta, zorder=6, head_width=0.1)\n",
        "    ax.arrow(0,0,gs[0,1],gs[1,1], lw=3, color=magenta, zorder=6, head_width=0.1)\n",
        "    return ax\n",
        "\n",
        "bear_black_fur = np.array(\n",
        "      [[ 2.0030351 ,  2.229253  ,  2.1639012 ,  2.0809546 ,  1.9728726 ,\n",
        "         1.8974666 ,  1.8924396 ,  2.0030351 ,      np.nan,  2.7017972 ,\n",
        "         2.8500957 ,  2.9707453 ,  3.0159889 ,  2.94561   ,  2.8299874 ,\n",
        "         2.7017972 ,      np.nan,  2.1639012 ,  2.2317666 ,  2.3147132 ,\n",
        "         2.299632  ,  2.2493613 ,  2.1890365 ,  2.1211711 ,  2.1337387 ,\n",
        "         2.1639012 ,      np.nan,  2.4982011 ,  2.5610936 ,  2.6213642 ,\n",
        "         2.633986  ,  2.5536071 ,  2.5057417 ,  2.4982011 ,      np.nan,\n",
        "         2.2468478 ,  2.3247673 ,  2.4429034 ,  2.4303357 ,  2.3448755 ,\n",
        "         2.2820372 ,  2.2468478 ,      np.nan,  2.1966706 ,  2.2722074 ,\n",
        "         2.4055076 ,  2.481933  ,  2.449941  ,  2.4001756 ,  2.3237501 ,\n",
        "         2.222442  ,  2.1984479 ,  2.1966706 ,      np.nan,  1.847196  ,\n",
        "         1.7818441 ,  1.7290599 ,  1.6310321 ,  1.4575984 ,  1.3369488 ,\n",
        "         1.2791375 ,  1.3671112 ,  1.8044659 ,  1.9577914 ,  2.2367936 ,\n",
        "         2.5962289 ,  2.7520679 ,  2.9028799 ,  3.4005595 ,  3.3150993 ,\n",
        "         3.0511783 ,  2.9531506 ,  2.8676905 ,  2.7746897 ,  2.4052003 ,\n",
        "         2.2795237 ,  2.1639012 ,  1.847196  ,      np.nan,  2.0491517 ,\n",
        "         2.5112591 ,  2.3175294 ,  2.1326865 ,  2.0491517 ],\n",
        "       [-1.3186252 , -1.0902537 , -0.99238015, -0.96477475, -0.99488975,\n",
        "        -1.1153494 , -1.2408283 , -1.3186252 ,      np.nan, -1.1881273 ,\n",
        "        -1.0852346 , -1.1454645 , -1.3286636 , -1.4666904 , -1.4641808 ,\n",
        "        -1.1881273 ,      np.nan, -1.5545256 , -1.5219011 , -1.4014413 ,\n",
        "        -1.3512497 , -1.3412115 , -1.3989317 , -1.4917862 , -1.5419777 ,\n",
        "        -1.5545256 ,      np.nan, -1.4265371 , -1.3964222 , -1.4968054 ,\n",
        "        -1.6097363 , -1.64738   , -1.5545256 , -1.4265371 ,      np.nan,\n",
        "        -1.6423608 , -1.6699662 , -1.677495  , -1.7176483 , -1.7477632 ,\n",
        "        -1.7176483 , -1.6423608 ,      np.nan, -1.7223509 , -1.7622781 ,\n",
        "        -1.7764744 , -1.7613908 , -1.8767359 , -1.9805465 , -1.9991791 ,\n",
        "        -1.9672374 , -1.913114  , -1.7223509 ,      np.nan, -1.5043341 ,\n",
        "        -1.5444873 , -1.486767  , -1.1504836 , -1.0626484 , -1.11284   ,\n",
        "        -1.2558858 , -1.7452537 , -2.3902152 , -2.4378972 , -2.3575907 ,\n",
        "        -2.1467861 , -2.2446597 , -2.5527822 , -2.5527822 , -2.1919586 ,\n",
        "        -1.7828973 , -1.6850238 , -1.677495  , -1.8431272 , -2.028836  ,\n",
        "        -2.0363647 , -1.9485295 , -1.5043341 ,      np.nan, -2.5527822 ,\n",
        "        -2.5527822 , -2.4570104 , -2.4463632 , -2.5527822 ]])\n",
        "\n",
        "bear_white_fur = np.array(\n",
        "      [[ 2.229253 ,  2.4680387,  2.7017972,  2.8299874,  2.8676905,\n",
        "         2.7746897,  2.4052003,  2.2795237,  2.1639012,  1.847196 ,\n",
        "         2.0030351,  2.229253 ,     np.nan,  1.8044659,  1.8974666,\n",
        "         2.0491517,  2.1326865,  2.3175294,  2.5112591,  2.9028799,\n",
        "         2.7520679,  2.5962289,  2.2367936,  1.9577914,  1.8044659],\n",
        "       [-1.0902537, -1.0601388, -1.1881273, -1.4641809, -1.677495 ,\n",
        "        -1.8431272, -2.028836 , -2.0363647, -1.9485295, -1.5043341,\n",
        "        -1.3186252, -1.0902537,     np.nan, -2.3902152, -2.5527822,\n",
        "        -2.5527822, -2.4463632, -2.4570104, -2.5527822, -2.5527822,\n",
        "        -2.2446597, -2.1467861, -2.3575907, -2.4378972, -2.3902152]])\n",
        "\n",
        "bear_face = np.array(\n",
        "      [[ 2.2419927,  2.2526567,  2.3015334,  2.3477442,  2.441943 ,\n",
        "            np.nan,  2.5258499,  2.5113971,  2.5327621,  2.5632387,\n",
        "         2.5780058,  2.5726645,  2.5475292,  2.5258499,     np.nan,\n",
        "         2.2858075,  2.2704121,  2.2402497,  2.2283105,  2.2484187,\n",
        "         2.273554 ,  2.2858075],\n",
        "       [-1.7605035, -1.9432811, -1.9707865, -1.9654629, -1.781798 ,\n",
        "            np.nan, -1.4688862, -1.4942957, -1.5099806, -1.5112354,\n",
        "        -1.4877081, -1.466063 , -1.4588479, -1.4688862,     np.nan,\n",
        "        -1.4346933, -1.4506918, -1.4463002, -1.418381 , -1.4055194,\n",
        "        -1.4083427, -1.4346933]])"
      ],
      "execution_count": 66,
      "outputs": []
    },
    {
      "cell_type": "code",
      "metadata": {
        "id": "eGObPnhYnTPs"
      },
      "source": [
        "import numpy as np\n",
        "\n",
        "\n",
        "\n",
        "from numpy.linalg import norm, inv\n",
        "from numpy import transpose\n",
        "#from readonly.bearNecessities import *"
      ],
      "execution_count": 58,
      "outputs": []
    },
    {
      "cell_type": "code",
      "metadata": {
        "id": "Rtth8wG23vj3"
      },
      "source": [
        "# In this function, you will return the transformation matrix T,\n",
        "# having built it out of an orthonormal basis set E that you create from Bear's Basis\n",
        "# and a transformation matrix in the mirror's coordinates TE.\n",
        "def build_reflection_matrix(bearBasis) : # The parameter bearBasis is a 2×2 matrix that is passed to the function.\n",
        "    # Use the gsBasis function on bearBasis to get the mirror's orthonormal basis.\n",
        "    E = gsBasis(bearBasis)\n",
        "    # Write a matrix in component form that perform's the mirror's reflection in the mirror's basis.\n",
        "    # Recall, the mirror operates by negating the last component of a vector.\n",
        "    # Replace a,b,c,d with appropriate values\n",
        "    TE = np.array([[1, 0],\n",
        "                   [0, -1]])\n",
        "    # Combine the matrices E and TE to produce your transformation matrix.\n",
        "    T = E @ TE @ inv(E)\n",
        "    # Finally, we return the result. There is no need to change this line.\n",
        "    return T"
      ],
      "execution_count": 59,
      "outputs": []
    },
    {
      "cell_type": "code",
      "metadata": {
        "colab": {
          "base_uri": "https://localhost:8080/",
          "height": 775
        },
        "id": "YhLIlZ3B5kNo",
        "outputId": "9797b3b5-8e00-4b73-ac5b-be2144b70fe8"
      },
      "source": [
        "%matplotlib inline\n",
        "import matplotlib.pyplot as plt\n",
        "\n",
        "# This is the matrix of Bear's basis vectors. \n",
        "bearBasis = np.array(\n",
        "    [[1,   -1],\n",
        "     [1.5, 2]])\n",
        "# This line uses your code to build a transformation matrix for us to use.\n",
        "T = build_reflection_matrix(bearBasis)\n",
        "\n",
        "# Bear is drawn as a set of polygons, the vertices of which are placed as a matrix list of column vectors.\n",
        "# We have three of these non-square matrix lists: bear_white_fur, bear_black_fur, and bear_face.\n",
        "# We'll make new lists of vertices by applying the T matrix you've calculated.\n",
        "reflected_bear_white_fur = T @ bear_white_fur\n",
        "reflected_bear_black_fur = T @ bear_black_fur\n",
        "reflected_bear_face = T @ bear_face\n",
        "\n",
        "# This next line runs a code to set up the graphics environment.\n",
        "ax = draw_mirror(bearBasis)\n",
        "\n",
        "# We'll first plot Bear, his white fur, his black fur, and his face.\n",
        "ax.fill(bear_white_fur[0], bear_white_fur[1], color=bear_white, zorder=1)\n",
        "ax.fill(bear_black_fur[0], bear_black_fur[1], color=bear_black, zorder=2)\n",
        "ax.plot(bear_face[0], bear_face[1], color=bear_white, zorder=3)\n",
        "\n",
        "# Next we'll plot Bear's reflection.\n",
        "ax.fill(reflected_bear_white_fur[0], reflected_bear_white_fur[1], color=bear_white, zorder=1)\n",
        "ax.fill(reflected_bear_black_fur[0], reflected_bear_black_fur[1], color=bear_black, zorder=2)\n",
        "ax.plot(reflected_bear_face[0], reflected_bear_face[1], color=bear_white, zorder=3);"
      ],
      "execution_count": 67,
      "outputs": [
        {
          "output_type": "display_data",
          "data": {
            "image/png": "[encoded data removed]",
            "text/plain": [
              "<Figure size 960x960 with 1 Axes>"
            ]
          },
          "metadata": {
            "tags": [],
            "needs_background": "light"
          }
        }
      ]
    }
  ]
}